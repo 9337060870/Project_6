{
 "cells": [
  {
   "cell_type": "code",
   "execution_count": 1,
   "id": "9da3d1fe-907c-4558-ae66-f8aab85ab4df",
   "metadata": {},
   "outputs": [],
   "source": [
    "import logging"
   ]
  },
  {
   "cell_type": "code",
   "execution_count": 2,
   "id": "35f13b2b-f297-4bf9-a0bb-c43d76dd6b79",
   "metadata": {},
   "outputs": [],
   "source": [
    "import numpy as np\n",
    "import pandas as pd\n",
    "import matplotlib.pyplot as plt\n",
    "from sklearn.base import BaseEstimator, TransformerMixin\n",
    "from sklearn.impute import SimpleImputer\n",
    "from sklearn.pipeline import Pipeline\n",
    "from sklearn.preprocessing import OneHotEncoder, StandardScaler\n",
    "from sklearn.compose import ColumnTransformer\n",
    "from sklearn.ensemble import RandomForestRegressor\n",
    "from sklearn.model_selection import train_test_split\n",
    "import joblib"
   ]
  },
  {
   "cell_type": "code",
   "execution_count": 3,
   "id": "b50ac8b1-94cc-4bcb-bbc9-1fa8f2a7aff6",
   "metadata": {},
   "outputs": [],
   "source": [
    "train_df = pd.read_csv('train.csv')\n",
    "test_df = pd.read_csv('test.csv')"
   ]
  },
  {
   "cell_type": "code",
   "execution_count": 4,
   "id": "ca8f864d-f9ee-414f-87c8-bb1236495012",
   "metadata": {},
   "outputs": [
    {
     "name": "stdout",
     "output_type": "stream",
     "text": [
      "id                0\n",
      "target            0\n",
      "ps_ind_01         0\n",
      "ps_ind_02_cat     0\n",
      "ps_ind_03         0\n",
      "ps_ind_04_cat     0\n",
      "ps_ind_05_cat     0\n",
      "ps_ind_06_bin     0\n",
      "ps_ind_07_bin     0\n",
      "ps_ind_08_bin     0\n",
      "ps_ind_09_bin     0\n",
      "ps_ind_10_bin     0\n",
      "ps_ind_11_bin     0\n",
      "ps_ind_12_bin     0\n",
      "ps_ind_13_bin     0\n",
      "ps_ind_14         0\n",
      "ps_ind_15         0\n",
      "ps_ind_16_bin     0\n",
      "ps_ind_17_bin     0\n",
      "ps_ind_18_bin     0\n",
      "ps_reg_01         0\n",
      "ps_reg_02         0\n",
      "ps_reg_03         0\n",
      "ps_car_01_cat     0\n",
      "ps_car_02_cat     0\n",
      "ps_car_03_cat     0\n",
      "ps_car_04_cat     0\n",
      "ps_car_05_cat     0\n",
      "ps_car_06_cat     0\n",
      "ps_car_07_cat     0\n",
      "ps_car_08_cat     0\n",
      "ps_car_09_cat     0\n",
      "ps_car_10_cat     0\n",
      "ps_car_11_cat     0\n",
      "ps_car_11         0\n",
      "ps_car_12         0\n",
      "ps_car_13         0\n",
      "ps_car_14         0\n",
      "ps_car_15         0\n",
      "ps_calc_01        0\n",
      "ps_calc_02        0\n",
      "ps_calc_03        0\n",
      "ps_calc_04        0\n",
      "ps_calc_05        0\n",
      "ps_calc_06        0\n",
      "ps_calc_07        0\n",
      "ps_calc_08        0\n",
      "ps_calc_09        0\n",
      "ps_calc_10        0\n",
      "ps_calc_11        0\n",
      "ps_calc_12        0\n",
      "ps_calc_13        0\n",
      "ps_calc_14        0\n",
      "ps_calc_15_bin    0\n",
      "ps_calc_16_bin    0\n",
      "ps_calc_17_bin    0\n",
      "ps_calc_18_bin    0\n",
      "ps_calc_19_bin    0\n",
      "ps_calc_20_bin    0\n",
      "dtype: int64\n",
      "id                0\n",
      "ps_ind_01         0\n",
      "ps_ind_02_cat     0\n",
      "ps_ind_03         0\n",
      "ps_ind_04_cat     0\n",
      "ps_ind_05_cat     0\n",
      "ps_ind_06_bin     0\n",
      "ps_ind_07_bin     0\n",
      "ps_ind_08_bin     0\n",
      "ps_ind_09_bin     0\n",
      "ps_ind_10_bin     0\n",
      "ps_ind_11_bin     0\n",
      "ps_ind_12_bin     0\n",
      "ps_ind_13_bin     0\n",
      "ps_ind_14         0\n",
      "ps_ind_15         0\n",
      "ps_ind_16_bin     0\n",
      "ps_ind_17_bin     0\n",
      "ps_ind_18_bin     0\n",
      "ps_reg_01         0\n",
      "ps_reg_02         0\n",
      "ps_reg_03         0\n",
      "ps_car_01_cat     0\n",
      "ps_car_02_cat     0\n",
      "ps_car_03_cat     0\n",
      "ps_car_04_cat     0\n",
      "ps_car_05_cat     0\n",
      "ps_car_06_cat     0\n",
      "ps_car_07_cat     0\n",
      "ps_car_08_cat     0\n",
      "ps_car_09_cat     0\n",
      "ps_car_10_cat     0\n",
      "ps_car_11_cat     0\n",
      "ps_car_11         0\n",
      "ps_car_12         0\n",
      "ps_car_13         0\n",
      "ps_car_14         0\n",
      "ps_car_15         0\n",
      "ps_calc_01        0\n",
      "ps_calc_02        0\n",
      "ps_calc_03        0\n",
      "ps_calc_04        0\n",
      "ps_calc_05        0\n",
      "ps_calc_06        0\n",
      "ps_calc_07        0\n",
      "ps_calc_08        0\n",
      "ps_calc_09        0\n",
      "ps_calc_10        0\n",
      "ps_calc_11        0\n",
      "ps_calc_12        0\n",
      "ps_calc_13        0\n",
      "ps_calc_14        0\n",
      "ps_calc_15_bin    0\n",
      "ps_calc_16_bin    0\n",
      "ps_calc_17_bin    0\n",
      "ps_calc_18_bin    0\n",
      "ps_calc_19_bin    0\n",
      "ps_calc_20_bin    0\n",
      "dtype: int64\n"
     ]
    }
   ],
   "source": [
    "print(train_df.isnull().sum())\n",
    "print(test_df.isnull().sum())"
   ]
  },
  {
   "cell_type": "code",
   "execution_count": 5,
   "id": "c1415246-741a-49a0-9360-52f58eb14b0c",
   "metadata": {},
   "outputs": [],
   "source": [
    "train_df.fillna(train_df.mean(), inplace=True)\n",
    "test_df.fillna(test_df.mean(), inplace=True)"
   ]
  },
  {
   "cell_type": "code",
   "execution_count": 6,
   "id": "7bfbd28d-6473-4846-be3d-732e6328f64d",
   "metadata": {},
   "outputs": [
    {
     "name": "stdout",
     "output_type": "stream",
     "text": [
      "ps_ind_01\n",
      "0    187594\n",
      "1    143984\n",
      "2     82468\n",
      "5     61464\n",
      "3     51193\n",
      "4     33524\n",
      "6     17682\n",
      "7     17303\n",
      "Name: count, dtype: int64\n",
      "ps_ind_01\n",
      "0    281515\n",
      "1    215941\n",
      "2    123293\n",
      "5     92199\n",
      "3     76441\n",
      "4     50521\n",
      "6     26804\n",
      "7     26102\n",
      "Name: count, dtype: int64\n"
     ]
    }
   ],
   "source": [
    "print(train_df['ps_ind_01'].value_counts())\n",
    "print(test_df['ps_ind_01'].value_counts())"
   ]
  },
  {
   "cell_type": "code",
   "execution_count": 8,
   "id": "0d23d362-88bf-4e32-a72f-9c2949b3e804",
   "metadata": {},
   "outputs": [
    {
     "name": "stdout",
     "output_type": "stream",
     "text": [
      "   id  target  ps_ind_01  ps_ind_02_cat  ps_ind_03  ps_ind_04_cat  \\\n",
      "0   7       0          2              2          5              1   \n",
      "1   9       0          1              1          7              0   \n",
      "2  13       0          5              4          9              1   \n",
      "3  16       0          0              1          2              0   \n",
      "4  17       0          0              2          0              1   \n",
      "\n",
      "   ps_ind_05_cat  ps_ind_06_bin  ps_ind_07_bin  ps_ind_08_bin  ...  \\\n",
      "0              0              0              1              0  ...   \n",
      "1              0              0              0              1  ...   \n",
      "2              0              0              0              1  ...   \n",
      "3              0              1              0              0  ...   \n",
      "4              0              1              0              0  ...   \n",
      "\n",
      "   ps_calc_11  ps_calc_12  ps_calc_13  ps_calc_14  ps_calc_15_bin  \\\n",
      "0           9           1           5           8               0   \n",
      "1           3           1           1           9               0   \n",
      "2           4           2           7           7               0   \n",
      "3           2           2           4           9               0   \n",
      "4           3           1           1           3               0   \n",
      "\n",
      "   ps_calc_16_bin  ps_calc_17_bin  ps_calc_18_bin  ps_calc_19_bin  \\\n",
      "0               1               1               0               0   \n",
      "1               1               1               0               1   \n",
      "2               1               1               0               1   \n",
      "3               0               0               0               0   \n",
      "4               0               0               1               1   \n",
      "\n",
      "   ps_calc_20_bin  \n",
      "0               1  \n",
      "1               0  \n",
      "2               0  \n",
      "3               0  \n",
      "4               0  \n",
      "\n",
      "[5 rows x 59 columns]\n",
      "   id  ps_ind_01  ps_ind_02_cat  ps_ind_03  ps_ind_04_cat  ps_ind_05_cat  \\\n",
      "0   0          0              1          8              1              0   \n",
      "1   1          4              2          5              1              0   \n",
      "2   2          5              1          3              0              0   \n",
      "3   3          0              1          6              0              0   \n",
      "4   4          5              1          7              0              0   \n",
      "\n",
      "   ps_ind_06_bin  ps_ind_07_bin  ps_ind_08_bin  ps_ind_09_bin  ...  \\\n",
      "0              0              1              0              0  ...   \n",
      "1              0              0              0              1  ...   \n",
      "2              0              0              0              1  ...   \n",
      "3              1              0              0              0  ...   \n",
      "4              0              0              0              1  ...   \n",
      "\n",
      "   ps_calc_11  ps_calc_12  ps_calc_13  ps_calc_14  ps_calc_15_bin  \\\n",
      "0           1           1           1          12               0   \n",
      "1           2           0           3          10               0   \n",
      "2           4           0           2           4               0   \n",
      "3           5           1           0           5               1   \n",
      "4           4           0           0           4               0   \n",
      "\n",
      "   ps_calc_16_bin  ps_calc_17_bin  ps_calc_18_bin  ps_calc_19_bin  \\\n",
      "0               1               1               0               0   \n",
      "1               0               1               1               0   \n",
      "2               0               0               0               0   \n",
      "3               0               1               0               0   \n",
      "4               1               1               0               0   \n",
      "\n",
      "   ps_calc_20_bin  \n",
      "0               1  \n",
      "1               1  \n",
      "2               0  \n",
      "3               0  \n",
      "4               1  \n",
      "\n",
      "[5 rows x 58 columns]\n"
     ]
    }
   ],
   "source": [
    "print(train_df.head())\n",
    "print(test_df.head())"
   ]
  },
  {
   "cell_type": "code",
   "execution_count": 9,
   "id": "de53f024-465e-4568-8013-e005206eaba4",
   "metadata": {},
   "outputs": [
    {
     "data": {
      "text/plain": [
       "Text(0.5, 1.0, 'Training set distribution')"
      ]
     },
     "execution_count": 9,
     "metadata": {},
     "output_type": "execute_result"
    },
    {
     "data": {
      "image/png": "[encoded data removed]",
      "text/plain": [
       "<Figure size 1000x600 with 1 Axes>"
      ]
     },
     "metadata": {},
     "output_type": "display_data"
    }
   ],
   "source": [
    "plt.figure(figsize=(10,6))\n",
    "plt.subplot(1,2,1)\n",
    "train_df['ps_ind_01'].value_counts().plot(kind='bar')\n",
    "plt.title('Training set distribution')"
   ]
  },
  {
   "cell_type": "code",
   "execution_count": 10,
   "id": "ed173b0b-a24f-465e-863f-a4e00c11918b",
   "metadata": {},
   "outputs": [
    {
     "data": {
      "text/plain": [
       "Text(0.5, 1.0, 'Test set distribution')"
      ]
     },
     "execution_count": 10,
     "metadata": {},
     "output_type": "execute_result"
    },
    {
     "data": {
      "image/png": "[encoded data removed]",
      "text/plain": [
       "<Figure size 640x480 with 1 Axes>"
      ]
     },
     "metadata": {},
     "output_type": "display_data"
    }
   ],
   "source": [
    "plt.subplot(1,2,2)\n",
    "test_df['ps_ind_01'].value_counts().plot(kind='bar')\n",
    "plt.title('Test set distribution')"
   ]
  },
  {
   "cell_type": "code",
   "execution_count": 11,
   "id": "0ddeb5af-55c7-4aa6-b6e4-079584e834c3",
   "metadata": {},
   "outputs": [
    {
     "data": {
      "text/plain": [
       "<Figure size 640x480 with 0 Axes>"
      ]
     },
     "metadata": {},
     "output_type": "display_data"
    }
   ],
   "source": [
    "plt.tight_layout()\n",
    "plt.show()"
   ]
  },
  {
   "cell_type": "code",
   "execution_count": 12,
   "id": "c17ead40-01c6-4ccf-989a-bff6cb3c0f47",
   "metadata": {},
   "outputs": [],
   "source": [
    "import seaborn as sns"
   ]
  },
  {
   "cell_type": "code",
   "execution_count": 15,
   "id": "a981f1d4-d9f1-4b98-9d3d-4d56e3c47c4c",
   "metadata": {},
   "outputs": [
    {
     "data": {
      "image/png": "[encoded data removed]",
      "text/plain": [
       "<Figure size 1000x600 with 1 Axes>"
      ]
     },
     "metadata": {},
     "output_type": "display_data"
    }
   ],
   "source": [
    "holiday_df = train_df[train_df['ps_ind_01'] == 1]\n",
    "plt.figure(figsize=(10,6))\n",
    "sns.barplot(x='ps_ind_01', y='target', data=train_df)\n",
    "plt.title('Sales Behavior During Holidays')\n",
    "plt.show()"
   ]
  },
  {
   "cell_type": "code",
   "execution_count": 16,
   "id": "a9680b85-3ef0-4ba9-a1bf-b9a1af2bd55c",
   "metadata": {},
   "outputs": [
    {
     "data": {
      "image/png": "[encoded data removed]",
      "text/plain": [
       "<Figure size 1000x600 with 1 Axes>"
      ]
     },
     "metadata": {},
     "output_type": "display_data"
    }
   ],
   "source": [
    "seasonal_df = train_df[train_df['ps_ind_02_cat'] == 1]\n",
    "plt.figure(figsize=(10,6))\n",
    "sns.barplot(x='ps_ind_02_cat', y='target', data=train_df)\n",
    "plt.title('Seasonal Purchase Behaviors')\n",
    "plt.show()"
   ]
  },
  {
   "cell_type": "code",
   "execution_count": 17,
   "id": "2333787d-7c65-4166-b2f5-9a6cc7bf515c",
   "metadata": {},
   "outputs": [
    {
     "name": "stdout",
     "output_type": "stream",
     "text": [
      "target            1.000000\n",
      "ps_car_13         0.053899\n",
      "ps_car_12         0.038790\n",
      "ps_ind_17_bin     0.037053\n",
      "ps_reg_02         0.034800\n",
      "ps_ind_07_bin     0.034218\n",
      "ps_car_04_cat     0.032900\n",
      "ps_car_03_cat     0.032401\n",
      "ps_reg_03         0.030888\n",
      "ps_ind_05_cat     0.029165\n",
      "ps_car_15         0.027667\n",
      "ps_reg_01         0.022888\n",
      "ps_car_05_cat     0.020754\n",
      "ps_ind_01         0.018570\n",
      "ps_car_01_cat     0.016256\n",
      "ps_ind_08_bin     0.013147\n",
      "ps_car_06_cat     0.011537\n",
      "ps_ind_04_cat     0.009360\n",
      "ps_ind_03         0.008360\n",
      "ps_ind_12_bin     0.007810\n",
      "ps_ind_14         0.007443\n",
      "ps_car_11_cat     0.006129\n",
      "ps_car_09_cat     0.005322\n",
      "ps_ind_18_bin     0.004555\n",
      "ps_ind_02_cat     0.004534\n",
      "ps_ind_13_bin     0.002460\n",
      "ps_ind_11_bin     0.002028\n",
      "ps_calc_03        0.001907\n",
      "ps_ind_10_bin     0.001815\n",
      "ps_calc_01        0.001782\n",
      "ps_calc_14        0.001362\n",
      "ps_calc_02        0.001360\n",
      "ps_calc_10        0.001061\n",
      "ps_car_10_cat     0.001038\n",
      "ps_calc_05        0.000771\n",
      "ps_calc_09        0.000719\n",
      "ps_calc_16_bin    0.000624\n",
      "ps_calc_18_bin    0.000552\n",
      "ps_calc_11        0.000371\n",
      "ps_calc_06        0.000082\n",
      "ps_calc_04        0.000033\n",
      "ps_calc_07       -0.000103\n",
      "ps_calc_17_bin   -0.000170\n",
      "id               -0.000188\n",
      "ps_calc_13       -0.000446\n",
      "ps_calc_15_bin   -0.000490\n",
      "ps_calc_08       -0.001006\n",
      "ps_calc_20_bin   -0.001072\n",
      "ps_calc_12       -0.001133\n",
      "ps_car_11        -0.001213\n",
      "ps_calc_19_bin   -0.001744\n",
      "ps_car_14        -0.004474\n",
      "ps_ind_09_bin    -0.008237\n",
      "ps_car_08_cat    -0.020342\n",
      "ps_ind_15        -0.021506\n",
      "ps_ind_16_bin    -0.027778\n",
      "ps_car_02_cat    -0.031534\n",
      "ps_ind_06_bin    -0.034017\n",
      "ps_car_07_cat    -0.036395\n",
      "Name: target, dtype: float64\n"
     ]
    }
   ],
   "source": [
    "corr_matrix = train_df.corr()\n",
    "print(corr_matrix['target'].sort_values(ascending=False))"
   ]
  },
  {
   "cell_type": "code",
   "execution_count": 18,
   "id": "5ad95db9-f03d-4677-b1b3-495c67b27bd8",
   "metadata": {},
   "outputs": [
    {
     "data": {
      "image/png": "[encoded data removed]",
      "text/plain": [
       "<Figure size 1000x600 with 1 Axes>"
      ]
     },
     "metadata": {},
     "output_type": "display_data"
    }
   ],
   "source": [
    "promo_df = train_df[train_df['ps_ind_06_bin'] == 1]\n",
    "plt.figure(figsize=(10,6))\n",
    "sns.barplot(x='ps_ind_06_bin', y='target', data=train_df)\n",
    "plt.title('Promo Effect on Sales')\n",
    "plt.show()"
   ]
  },
  {
   "cell_type": "code",
   "execution_count": 19,
   "id": "52eebc9a-a1c5-4de5-b9e3-31e1b35d6874",
   "metadata": {},
   "outputs": [
    {
     "data": {
      "image/png": "[encoded data removed]",
      "text/plain": [
       "<Figure size 1000x600 with 1 Axes>"
      ]
     },
     "metadata": {},
     "output_type": "display_data"
    }
   ],
   "source": [
    "assortment_df = train_df[train_df['ps_ind_03'] == 1]\n",
    "plt.figure(figsize=(10,6))\n",
    "sns.barplot(x='ps_ind_03', y='target', data=train_df)\n",
    "plt.title('Assortment Type Effect on Sales')\n",
    "plt.show()"
   ]
  },
  {
   "cell_type": "code",
   "execution_count": 20,
   "id": "59e20cdb-b5da-4aff-bb2d-6bff33e29e4a",
   "metadata": {},
   "outputs": [],
   "source": [
    "from sklearn.model_selection import train_test_split\n",
    "from sklearn.ensemble import RandomForestRegressor\n",
    "from sklearn.metrics import mean_squared_error"
   ]
  },
  {
   "cell_type": "code",
   "execution_count": 21,
   "id": "f9b1207a-6070-4582-9f12-b16475dfad63",
   "metadata": {},
   "outputs": [],
   "source": [
    "X = train_df.drop(['target'], axis=1)\n",
    "y = train_df['target']\n",
    "X_train, X_test, y_train, y_test = train_test_split(X, y, test_size=0.2, random_state=42)"
   ]
  },
  {
   "cell_type": "code",
   "execution_count": 22,
   "id": "d9b3924e-6258-468a-96dd-a78278fbdcb0",
   "metadata": {},
   "outputs": [],
   "source": [
    "import pickle\n",
    "import pandas as pd\n",
    "import numpy as np\n",
    "import matplotlib.pyplot as plt\n",
    "import seaborn as sns\n",
    "from sklearn.model_selection import train_test_split\n",
    "from sklearn.ensemble import RandomForestRegressor\n",
    "from sklearn.metrics import mean_squared_error"
   ]
  },
  {
   "cell_type": "code",
   "execution_count": 23,
   "id": "01a602dc-ed3f-40eb-bfa2-a1f607a497c3",
   "metadata": {},
   "outputs": [],
   "source": [
    "logger = logging.getLogger(__name__)\n"
   ]
  },
  {
   "cell_type": "code",
   "execution_count": 24,
   "id": "9e6a575c-2329-43ff-8520-58c76d1aa591",
   "metadata": {},
   "outputs": [],
   "source": [
    "logger.setLevel(logging.INFO)\n"
   ]
  },
  {
   "cell_type": "code",
   "execution_count": 25,
   "id": "49bbfe4a-6e4c-43f1-96dd-1cf795431229",
   "metadata": {},
   "outputs": [],
   "source": [
    "file_handler = logging.FileHandler('sales_prediction.log')\n",
    "file_handler.setLevel(logging.INFO)"
   ]
  },
  {
   "cell_type": "code",
   "execution_count": 26,
   "id": "d577b530-7350-4feb-8a0f-339b4dfc22dc",
   "metadata": {},
   "outputs": [],
   "source": [
    "console_handler = logging.StreamHandler()\n",
    "console_handler.setLevel(logging.INFO)"
   ]
  },
  {
   "cell_type": "code",
   "execution_count": 27,
   "id": "d7683a37-b2a3-4295-be84-7ca9ae1b68fe",
   "metadata": {},
   "outputs": [],
   "source": [
    "formatter = logging.Formatter('%(asctime)s - %(name)s - %(levelname)s - %(message)s')"
   ]
  },
  {
   "cell_type": "code",
   "execution_count": 28,
   "id": "939ebc7d-53d0-4843-af51-ae2e4c5808e0",
   "metadata": {},
   "outputs": [],
   "source": [
    "file_handler.setFormatter(formatter)\n",
    "console_handler.setFormatter(formatter)"
   ]
  },
  {
   "cell_type": "code",
   "execution_count": 29,
   "id": "7578514a-5f6a-479a-baa6-949523c8ea2d",
   "metadata": {},
   "outputs": [],
   "source": [
    "logger.addHandler(file_handler)\n",
    "logger.addHandler(console_handler)\n"
   ]
  },
  {
   "cell_type": "code",
   "execution_count": 30,
   "id": "c3436603-b6d3-42ae-98db-70b7c2f7d0b2",
   "metadata": {},
   "outputs": [
    {
     "name": "stderr",
     "output_type": "stream",
     "text": [
      "2025-10-20 13:01:26,471 - __main__ - INFO - Starting sales prediction task\n"
     ]
    }
   ],
   "source": [
    "logger.info('Starting sales prediction task')\n"
   ]
  },
  {
   "cell_type": "code",
   "execution_count": 31,
   "id": "0f90d3ff-adc7-4df7-9112-30c6c8b14a39",
   "metadata": {},
   "outputs": [],
   "source": [
    "import pandas as pd\n",
    "from sklearn.model_selection import train_test_split\n",
    "from sklearn.ensemble import RandomForestRegressor\n",
    "from sklearn.metrics import mean_squared_error"
   ]
  },
  {
   "cell_type": "code",
   "execution_count": 32,
   "id": "9522b23d-3a9c-477c-b8dc-d3ea7abd2537",
   "metadata": {},
   "outputs": [],
   "source": [
    "train_df = pd.read_csv('train.csv')\n",
    "test_df = pd.read_csv('test.csv')"
   ]
  },
  {
   "cell_type": "code",
   "execution_count": 33,
   "id": "a52683a1-e396-4cf9-9d7d-e212a3044d43",
   "metadata": {},
   "outputs": [
    {
     "name": "stderr",
     "output_type": "stream",
     "text": [
      "2025-10-20 13:03:41,001 - __main__ - INFO - Loaded training and testing data\n"
     ]
    }
   ],
   "source": [
    "logger.info('Loaded training and testing data')"
   ]
  },
  {
   "cell_type": "code",
   "execution_count": 34,
   "id": "f862d7d6-ea5a-4a8b-918e-b13151eb1952",
   "metadata": {},
   "outputs": [],
   "source": [
    "train_df.fillna(train_df.mean(), inplace=True)\n",
    "test_df.fillna(test_df.mean(), inplace=True)"
   ]
  },
  {
   "cell_type": "code",
   "execution_count": 35,
   "id": "4de8ee44-85f5-4f9d-b38e-68176ad71e85",
   "metadata": {},
   "outputs": [
    {
     "name": "stderr",
     "output_type": "stream",
     "text": [
      "2025-10-20 13:03:55,148 - __main__ - INFO - Handled missing values\n"
     ]
    }
   ],
   "source": [
    "logger.info('Handled missing values')\n"
   ]
  },
  {
   "cell_type": "code",
   "execution_count": 36,
   "id": "8c2f5ace-9907-4b94-b74d-78d803a23445",
   "metadata": {},
   "outputs": [],
   "source": [
    "X = train_df.drop(['target'], axis=1)\n",
    "y = train_df['target']\n",
    "X_train, X_test, y_train, y_test = train_test_split(X, y, test_size=0.2, random_state=42)\n"
   ]
  },
  {
   "cell_type": "code",
   "execution_count": 37,
   "id": "a5ffce83-3278-4f50-b77d-451aa970a6c2",
   "metadata": {},
   "outputs": [
    {
     "name": "stderr",
     "output_type": "stream",
     "text": [
      "2025-10-20 13:04:09,688 - __main__ - INFO - Split data into training and testing sets\n"
     ]
    }
   ],
   "source": [
    "logger.info('Split data into training and testing sets')\n"
   ]
  },
  {
   "cell_type": "code",
   "execution_count": 42,
   "id": "bfa66388-536f-4ce6-a50a-e20e285801e8",
   "metadata": {},
   "outputs": [],
   "source": [
    "import logging\n",
    "from sklearn.ensemble import RandomForestRegressor"
   ]
  },
  {
   "cell_type": "code",
   "execution_count": 48,
   "id": "2aaf89db-279f-4dbb-ac9f-c168ffc52f64",
   "metadata": {},
   "outputs": [
    {
     "name": "stdout",
     "output_type": "stream",
     "text": [
      "Requirement already satisfied: tensorflow in c:\\users\\barsha prasad\\anaconda3\\lib\\site-packages (2.20.0)\n",
      "Requirement already satisfied: absl-py>=1.0.0 in c:\\users\\barsha prasad\\anaconda3\\lib\\site-packages (from tensorflow) (2.3.1)\n",
      "Requirement already satisfied: astunparse>=1.6.0 in c:\\users\\barsha prasad\\anaconda3\\lib\\site-packages (from tensorflow) (1.6.3)\n",
      "Requirement already satisfied: flatbuffers>=24.3.25 in c:\\users\\barsha prasad\\anaconda3\\lib\\site-packages (from tensorflow) (25.9.23)\n",
      "Requirement already satisfied: gast!=0.5.0,!=0.5.1,!=0.5.2,>=0.2.1 in c:\\users\\barsha prasad\\anaconda3\\lib\\site-packages (from tensorflow) (0.6.0)\n",
      "Requirement already satisfied: google_pasta>=0.1.1 in c:\\users\\barsha prasad\\anaconda3\\lib\\site-packages (from tensorflow) (0.2.0)\n",
      "Requirement already satisfied: libclang>=13.0.0 in c:\\users\\barsha prasad\\anaconda3\\lib\\site-packages (from tensorflow) (18.1.1)\n",
      "Requirement already satisfied: opt_einsum>=2.3.2 in c:\\users\\barsha prasad\\anaconda3\\lib\\site-packages (from tensorflow) (3.4.0)\n",
      "Requirement already satisfied: packaging in c:\\users\\barsha prasad\\anaconda3\\lib\\site-packages (from tensorflow) (23.2)\n",
      "Requirement already satisfied: protobuf>=5.28.0 in c:\\users\\barsha prasad\\anaconda3\\lib\\site-packages (from tensorflow) (6.33.0)\n",
      "Requirement already satisfied: requests<3,>=2.21.0 in c:\\users\\barsha prasad\\anaconda3\\lib\\site-packages (from tensorflow) (2.32.2)\n",
      "Requirement already satisfied: setuptools in c:\\users\\barsha prasad\\anaconda3\\lib\\site-packages (from tensorflow) (69.5.1)\n",
      "Requirement already satisfied: six>=1.12.0 in c:\\users\\barsha prasad\\anaconda3\\lib\\site-packages (from tensorflow) (1.16.0)\n",
      "Requirement already satisfied: termcolor>=1.1.0 in c:\\users\\barsha prasad\\anaconda3\\lib\\site-packages (from tensorflow) (3.1.0)\n",
      "Requirement already satisfied: typing_extensions>=3.6.6 in c:\\users\\barsha prasad\\anaconda3\\lib\\site-packages (from tensorflow) (4.15.0)\n",
      "Requirement already satisfied: wrapt>=1.11.0 in c:\\users\\barsha prasad\\anaconda3\\lib\\site-packages (from tensorflow) (1.14.1)\n",
      "Requirement already satisfied: grpcio<2.0,>=1.24.3 in c:\\users\\barsha prasad\\anaconda3\\lib\\site-packages (from tensorflow) (1.75.1)\n",
      "Requirement already satisfied: tensorboard~=2.20.0 in c:\\users\\barsha prasad\\anaconda3\\lib\\site-packages (from tensorflow) (2.20.0)\n",
      "Requirement already satisfied: keras>=3.10.0 in c:\\users\\barsha prasad\\anaconda3\\lib\\site-packages (from tensorflow) (3.11.3)\n",
      "Requirement already satisfied: numpy>=1.26.0 in c:\\users\\barsha prasad\\anaconda3\\lib\\site-packages (from tensorflow) (1.26.4)\n",
      "Requirement already satisfied: h5py>=3.11.0 in c:\\users\\barsha prasad\\anaconda3\\lib\\site-packages (from tensorflow) (3.11.0)\n",
      "Requirement already satisfied: ml_dtypes<1.0.0,>=0.5.1 in c:\\users\\barsha prasad\\anaconda3\\lib\\site-packages (from tensorflow) (0.5.3)\n",
      "Requirement already satisfied: wheel<1.0,>=0.23.0 in c:\\users\\barsha prasad\\anaconda3\\lib\\site-packages (from astunparse>=1.6.0->tensorflow) (0.43.0)\n",
      "Requirement already satisfied: rich in c:\\users\\barsha prasad\\anaconda3\\lib\\site-packages (from keras>=3.10.0->tensorflow) (13.3.5)\n",
      "Requirement already satisfied: namex in c:\\users\\barsha prasad\\anaconda3\\lib\\site-packages (from keras>=3.10.0->tensorflow) (0.1.0)\n",
      "Requirement already satisfied: optree in c:\\users\\barsha prasad\\anaconda3\\lib\\site-packages (from keras>=3.10.0->tensorflow) (0.17.0)\n",
      "Requirement already satisfied: charset-normalizer<4,>=2 in c:\\users\\barsha prasad\\anaconda3\\lib\\site-packages (from requests<3,>=2.21.0->tensorflow) (2.0.4)\n",
      "Requirement already satisfied: idna<4,>=2.5 in c:\\users\\barsha prasad\\anaconda3\\lib\\site-packages (from requests<3,>=2.21.0->tensorflow) (3.7)\n",
      "Requirement already satisfied: urllib3<3,>=1.21.1 in c:\\users\\barsha prasad\\anaconda3\\lib\\site-packages (from requests<3,>=2.21.0->tensorflow) (2.2.2)\n",
      "Requirement already satisfied: certifi>=2017.4.17 in c:\\users\\barsha prasad\\anaconda3\\lib\\site-packages (from requests<3,>=2.21.0->tensorflow) (2024.6.2)\n",
      "Requirement already satisfied: markdown>=2.6.8 in c:\\users\\barsha prasad\\anaconda3\\lib\\site-packages (from tensorboard~=2.20.0->tensorflow) (3.4.1)\n",
      "Requirement already satisfied: pillow in c:\\users\\barsha prasad\\anaconda3\\lib\\site-packages (from tensorboard~=2.20.0->tensorflow) (10.3.0)\n",
      "Requirement already satisfied: tensorboard-data-server<0.8.0,>=0.7.0 in c:\\users\\barsha prasad\\anaconda3\\lib\\site-packages (from tensorboard~=2.20.0->tensorflow) (0.7.2)\n",
      "Requirement already satisfied: werkzeug>=1.0.1 in c:\\users\\barsha prasad\\anaconda3\\lib\\site-packages (from tensorboard~=2.20.0->tensorflow) (3.0.3)\n",
      "Requirement already satisfied: MarkupSafe>=2.1.1 in c:\\users\\barsha prasad\\anaconda3\\lib\\site-packages (from werkzeug>=1.0.1->tensorboard~=2.20.0->tensorflow) (2.1.3)\n",
      "Requirement already satisfied: markdown-it-py<3.0.0,>=2.2.0 in c:\\users\\barsha prasad\\anaconda3\\lib\\site-packages (from rich->keras>=3.10.0->tensorflow) (2.2.0)\n",
      "Requirement already satisfied: pygments<3.0.0,>=2.13.0 in c:\\users\\barsha prasad\\anaconda3\\lib\\site-packages (from rich->keras>=3.10.0->tensorflow) (2.15.1)\n",
      "Requirement already satisfied: mdurl~=0.1 in c:\\users\\barsha prasad\\anaconda3\\lib\\site-packages (from markdown-it-py<3.0.0,>=2.2.0->rich->keras>=3.10.0->tensorflow) (0.1.0)\n"
     ]
    }
   ],
   "source": [
    "!pip install tensorflow\n"
   ]
  },
  {
   "cell_type": "code",
   "execution_count": 81,
   "id": "ed594d67-45fe-40a4-a5d0-81111431201b",
   "metadata": {},
   "outputs": [],
   "source": [
    "from datetime import datetime\n"
   ]
  },
  {
   "cell_type": "code",
   "execution_count": 82,
   "id": "08bec475-7009-417e-a8fa-fa3fbec563c9",
   "metadata": {},
   "outputs": [],
   "source": [
    "# Assuming the time series data is not available, we'll use the 'target' column\n",
    "time_series_data = train_df[['target']]"
   ]
  },
  {
   "cell_type": "code",
   "execution_count": 62,
   "id": "02034347-c352-4f49-af50-e800c55f836f",
   "metadata": {},
   "outputs": [],
   "source": [
    "from statsmodels.tsa.stattools import adfuller"
   ]
  },
  {
   "cell_type": "code",
   "execution_count": null,
   "id": "cceb776c-c21e-4e4d-b841-c40ddbb608f6",
   "metadata": {},
   "outputs": [],
   "source": [
    "import pandas as pd"
   ]
  },
  {
   "cell_type": "code",
   "execution_count": 67,
   "id": "179aae67-45b6-4cb3-8922-cf752db33e6c",
   "metadata": {},
   "outputs": [],
   "source": [
    "time_series_data_diff = time_series_data.diff().dropna()"
   ]
  },
  {
   "cell_type": "code",
   "execution_count": 76,
   "id": "251e0379-9980-4043-a23d-25218692c406",
   "metadata": {},
   "outputs": [],
   "source": [
    "import datetime\n",
    "import pickle"
   ]
  },
  {
   "cell_type": "code",
   "execution_count": 78,
   "id": "4440a240-5b7a-4720-8f2d-d3c521d4f15c",
   "metadata": {},
   "outputs": [],
   "source": [
    "import pandas as pd\n",
    "import numpy as np\n",
    "from sklearn.preprocessing import MinMaxScaler\n",
    "from statsmodels.tsa.stattools import adfuller\n",
    "import statsmodels.api as sm\n",
    "import pickle\n",
    "import datetime"
   ]
  },
  {
   "cell_type": "code",
   "execution_count": 80,
   "id": "442ddc4e-234f-42e0-a51c-dc04e2148201",
   "metadata": {},
   "outputs": [],
   "source": [
    "# Define a simple model (e.g., a RandomForestRegressor)\n",
    "from sklearn.ensemble import RandomForestRegressor\n",
    "model = RandomForestRegressor()\n"
   ]
  },
  {
   "cell_type": "code",
   "execution_count": null,
   "id": "00801642-2269-4176-9c9a-57986aa92535",
   "metadata": {},
   "outputs": [],
   "source": [
    "model.fit(train_df.drop('target', axis=1), train_df['target'])"
   ]
  },
  {
   "cell_type": "code",
   "execution_count": null,
   "id": "761fa50c-3d28-44c2-8543-0d1274eab16a",
   "metadata": {},
   "outputs": [],
   "source": [
    "timestamp = datetime.datetime.now().strftime('%m-%d-%Y-%H-%M-%S')\n",
    "with open(f'{timestamp}.pkl', 'wb') as f:\n",
    "    pickle.dump(model, f)\n"
   ]
  },
  {
   "cell_type": "code",
   "execution_count": null,
   "id": "efcc5cf6-0393-40dd-9f31-45ac49ea24a2",
   "metadata": {},
   "outputs": [],
   "source": [
    "sm.graphics.tsa.plot_acf(time_series_data_diff['target'], lags=20)\n",
    "sm.graphics.tsa.plot_pacf(time_series_data_diff['target'], lags=20)\n"
   ]
  },
  {
   "cell_type": "code",
   "execution_count": null,
   "id": "060da875-43bb-4436-a977-bcd67032cc3f",
   "metadata": {},
   "outputs": [],
   "source": [
    "def create_supervised_data(data, window_size):\n",
    "    X, y = [], []\n",
    "    for i in range(len(data) - window_size):\n",
    "        X.append(data[i:i+window_size])\n",
    "        y.append(data[i+window_size])\n",
    "    return np.array(X), np.array(y)\n",
    "\n",
    "window_size = 7\n",
    "X, y = create_supervised_data(time_series_data_diff['target'], window_size)"
   ]
  },
  {
   "cell_type": "code",
   "execution_count": null,
   "id": "b322635c-3749-4ea1-89b4-386acfc2ffc0",
   "metadata": {},
   "outputs": [],
   "source": [
    "scaler = MinMaxScaler(feature_range=(-1, 1))\n",
    "X_scaled = scaler.fit_transform(X.reshape(-1, 1)).reshape(X.shape)\n",
    "y_scaled = scaler.fit_transform(y.reshape(-1, 1)).reshape(y.shape)\n"
   ]
  },
  {
   "cell_type": "code",
   "execution_count": null,
   "id": "5ab8089c-cdf9-4c95-8321-6758a054f571",
   "metadata": {},
   "outputs": [],
   "source": [
    "model = Sequential()\n",
    "model.add(LSTM(50, input_shape=(window_size, 1)))\n",
    "model.add(Dense(1))\n",
    "model.compile(loss='mean_squared_error', optimizer='adam')\n"
   ]
  },
  {
   "cell_type": "code",
   "execution_count": null,
   "id": "35acdfa6-3d71-4336-a960-afcc0b2c5e02",
   "metadata": {},
   "outputs": [],
   "source": [
    "X_scaled = X_scaled.reshape(X_scaled.shape[0], window_size, 1)"
   ]
  },
  {
   "cell_type": "code",
   "execution_count": 1,
   "id": "b20a918d-51a0-4b1a-9e48-743eb06263c3",
   "metadata": {},
   "outputs": [],
   "source": [
    "import pandas as pd\n",
    "from sklearn.ensemble import RandomForestRegressor\n",
    "import pickle\n",
    "import datetime\n"
   ]
  },
  {
   "cell_type": "code",
   "execution_count": 2,
   "id": "f3896d2c-6c4c-40a3-91a5-d71dde1624b0",
   "metadata": {},
   "outputs": [],
   "source": [
    "train_df = pd.read_csv('train.csv')"
   ]
  },
  {
   "cell_type": "code",
   "execution_count": 3,
   "id": "d306bd10-29f8-4d5b-9877-84ef7a4192fc",
   "metadata": {},
   "outputs": [],
   "source": [
    "model = RandomForestRegressor()\n"
   ]
  },
  {
   "cell_type": "code",
   "execution_count": null,
   "id": "38a57cf7-2757-4f04-9a46-82567122796e",
   "metadata": {},
   "outputs": [],
   "source": [
    "import streamlit as st\n",
    "import pandas as pd\n",
    "import numpy as np\n",
    "import plotly.express as px\n",
    "import pickle\n",
    "from datetime import datetime\n",
    "import os"
   ]
  },
  {
   "cell_type": "code",
   "execution_count": null,
   "id": "2a72b201-4dad-4712-a5cf-bd41e01337f4",
   "metadata": {},
   "outputs": [],
   "source": [
    "@st.cache_resource\n",
    "def load_model():\n",
    "    with open(\"model.pkl\", \"rb\") as f:\n",
    "        model = pickle.load(f)\n",
    "    return model\n",
    "\n",
    "model = load_model()"
   ]
  },
  {
   "cell_type": "code",
   "execution_count": null,
   "id": "ea3b9c86-5948-465c-85e0-6fe9f912e0cc",
   "metadata": {},
   "outputs": [],
   "source": [
    "st.title(\"Store Sales and Customer Prediction Dashboard\")\n",
    "st.write(\"Enter store details and upload data to predict sales and customer numbers.\")"
   ]
  },
  {
   "cell_type": "code",
   "execution_count": null,
   "id": "18ee1a0f-5bb3-4ff9-adf3-bb6074a849a4",
   "metadata": {},
   "outputs": [],
   "source": [
    "st.sidebar.header(\"Input Parameters\")"
   ]
  },
  {
   "cell_type": "code",
   "execution_count": null,
   "id": "a31e5de8-d307-4217-87bf-ae86943125f9",
   "metadata": {},
   "outputs": [],
   "source": [
    "store_id = st.sidebar.text_input(\"Store ID\", \"1\")"
   ]
  },
  {
   "cell_type": "code",
   "execution_count": null,
   "id": "0d14e267-4c65-402a-a053-d2c87a226a17",
   "metadata": {},
   "outputs": [],
   "source": [
    "store_size = st.sidebar.number_input(\"Store Size (sq ft)\", min_value=0, value=1000)\n",
    "location_type = st.sidebar.selectbox(\"Location Type\", [\"Urban\", \"Suburban\", \"Rural\"])"
   ]
  },
  {
   "cell_type": "code",
   "execution_count": null,
   "id": "5dbcbf5c-4430-4f5a-bcae-c56ede5c9d95",
   "metadata": {},
   "outputs": [],
   "source": [
    "uploaded_file = st.sidebar.file_uploader(\"Upload CSV file\", type=[\"csv\"])\n",
    "if uploaded_file:\n",
    "    input_data = pd.read_csv(uploaded_file)\n",
    "    required_columns = [\"Date\", \"IsHoliday\", \"IsWeekend\", \"IsPromo\"]"
   ]
  },
  {
   "cell_type": "code",
   "execution_count": null,
   "id": "43911648-d7cb-4ade-95a7-251afae1e5b1",
   "metadata": {},
   "outputs": [],
   "source": [
    "if not all(col in input_data.columns for col in required_columns):\n",
    "        st.error(f\"CSV must contain columns: {', '.join(required_columns)}\")\n",
    "    else:\n",
    "        # Preprocess input data\n",
    "        input_data[\"Date\"] = pd.to_datetime(input_data[\"Date\"])\n",
    "        input_data[\"DayOfWeek\"] = input_data[\"Date\"].dt.dayofweek\n",
    "        input_data[\"Month\"] = input_data[\"Date\"].dt.month"
   ]
  },
  {
   "cell_type": "code",
   "execution_count": null,
   "id": "9343e105-27e6-4303-8944-7fc5d3c88db7",
   "metadata": {},
   "outputs": [],
   "source": [
    "input_data[\"Store_ID\"] = store_id\n",
    "        input_data[\"Store_Size\"] = store_size\n",
    "        input_data[\"Location_Type\"] = location_type"
   ]
  },
  {
   "cell_type": "code",
   "execution_count": null,
   "id": "9b5d4d5c-dc4f-4569-b113-058dccafe296",
   "metadata": {},
   "outputs": [],
   "source": [
    "input_data = pd.get_dummies(input_data, columns=[\"Location_Type\"], prefix=\"Loc\")"
   ]
  },
  {
   "cell_type": "code",
   "execution_count": null,
   "id": "be434cec-03fe-400f-b9e7-b027bc568f80",
   "metadata": {},
   "outputs": [],
   "source": [
    "feature_columns = [\"Store_ID\", \"IsHoliday\", \"IsWeekend\", \"IsPromo\", \n",
    "                          \"DayOfWeek\", \"Month\", \"Store_Size\", \n",
    "                          \"Loc_Urban\", \"Loc_Suburban\", \"Loc_Rural\"]"
   ]
  },
  {
   "cell_type": "code",
   "execution_count": null,
   "id": "0732c085-9dfb-48a4-ba64-87b56d72fe44",
   "metadata": {},
   "outputs": [],
   "source": [
    "for col in feature_columns:\n",
    "            if col not in input_data.columns:\n",
    "                input_data[col] = 0"
   ]
  },
  {
   "cell_type": "code",
   "execution_count": null,
   "id": "4b614c18-5525-4cb2-928b-491e40cc0897",
   "metadata": {},
   "outputs": [],
   "source": [
    "X = input_data[feature_columns]"
   ]
  },
  {
   "cell_type": "code",
   "execution_count": null,
   "id": "735bbfab-f460-4abb-bd77-bf0110d5db13",
   "metadata": {},
   "outputs": [],
   "source": [
    "try:\n",
    "            predictions = model.predict(X)\n",
    "            input_data[\"Predicted_Sales\"] = predictions[:, 0]  # Assuming model outputs [sales, customers]\n",
    "            input_data[\"Predicted_Customers\"] = predictions[:, 1]"
   ]
  },
  {
   "cell_type": "code",
   "execution_count": null,
   "id": "0158468f-00c0-4992-8986-c71c204ff515",
   "metadata": {},
   "outputs": [],
   "source": [
    "st.subheader(\"Prediction Results\")\n",
    "            st.dataframe(input_data[[\"Date\", \"Predicted_Sales\", \"Predicted_Customers\"]])\n",
    "            \n",
    "            # Plot predictions\n",
    "            fig = px.line(input_data, x=\"Date\", y=[\"Predicted_Sales\", \"Predicted_Customers\"],\n",
    "                         title=\"Predicted Sales and Customer Numbers\",\n",
    "                         labels={\"value\": \"Amount/Count\", \"variable\": \"Metric\"})\n",
    "            st.plotly_chart(fig)\n",
    "            "
   ]
  },
  {
   "cell_type": "code",
   "execution_count": null,
   "id": "ab2eb243-4944-4094-adcf-37b1c7b125a3",
   "metadata": {},
   "outputs": [],
   "source": [
    "csv = input_data[[\"Date\", \"Predicted_Sales\", \"Predicted_Customers\"]].to_csv(index=False)\n",
    "            st.download_button(\n",
    "                label=\"Download Predictions as CSV\",\n",
    "                data=csv,\n",
    "                file_name=\"predictions.csv\",\n",
    "                mime=\"text/csv\"\n",
    "            )\n",
    "        \n",
    "        except Exception as e:\n",
    "            st.error(f\"Error making predictions: {str(e)}\")\n",
    "else:\n",
    "    st.info(\"Please upload a CSV file to get predictions.\")"
   ]
  },
  {
   "cell_type": "code",
   "execution_count": null,
   "id": "ea03512f-7f47-4a05-9a33-add4b0128efd",
   "metadata": {},
   "outputs": [],
   "source": []
  }
 ],
 "metadata": {
  "kernelspec": {
   "display_name": "Python 3 (ipykernel)",
   "language": "python",
   "name": "python3"
  },
  "language_info": {
   "codemirror_mode": {
    "name": "ipython",
    "version": 3
   },
   "file_extension": ".py",
   "mimetype": "text/x-python",
   "name": "python",
   "nbconvert_exporter": "python",
   "pygments_lexer": "ipython3",
   "version": "3.12.4"
  }
 },
 "nbformat": 4,
 "nbformat_minor": 5
}
