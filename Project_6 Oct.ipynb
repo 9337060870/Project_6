{
 "cells": [
  {
   "cell_type": "code",
   "execution_count": 2,
   "id": "c9517d90-96e3-4013-90b3-498dae6ca510",
   "metadata": {},
   "outputs": [],
   "source": [
    "import pandas as pd\n",
    "import numpy as np\n",
    "import matplotlib.pyplot as plt\n",
    "import seaborn as sns\n",
    "import logging"
   ]
  },
  {
   "cell_type": "code",
   "execution_count": 3,
   "id": "6be914a3-4a9e-4d77-83d4-4629d135262c",
   "metadata": {},
   "outputs": [],
   "source": [
    "logging.basicConfig(level=logging.INFO, format='%(asctime)s - %(levelname)s - %(message)s')\n",
    "logger = logging.getLogger(__name__)"
   ]
  },
  {
   "cell_type": "code",
   "execution_count": 4,
   "id": "7b4a7296-26a8-41a4-be92-c88e8756a32b",
   "metadata": {},
   "outputs": [],
   "source": [
    "train_df = pd.read_csv('train.csv', dtype={7: 'str'})\n",
    "test_df = pd.read_csv('test.csv', dtype={7: 'str'})"
   ]
  },
  {
   "cell_type": "code",
   "execution_count": 5,
   "id": "021085b8-ae93-40f7-88a0-fd85c4fd473f",
   "metadata": {},
   "outputs": [
    {
     "name": "stdout",
     "output_type": "stream",
     "text": [
      "   Store  DayOfWeek        Date  Sales  Customers  Open  Promo StateHoliday  \\\n",
      "0      1          5  2015-07-31   5263        555     1      1            0   \n",
      "1      2          5  2015-07-31   6064        625     1      1            0   \n",
      "2      3          5  2015-07-31   8314        821     1      1            0   \n",
      "3      4          5  2015-07-31  13995       1498     1      1            0   \n",
      "4      5          5  2015-07-31   4822        559     1      1            0   \n",
      "\n",
      "   SchoolHoliday  \n",
      "0              1  \n",
      "1              1  \n",
      "2              1  \n",
      "3              1  \n",
      "4              1  \n",
      "          Id  Store  DayOfWeek        Date  Open  Promo StateHoliday  \\\n",
      "0          1      1          4  2015-09-17   1.0      1            0   \n",
      "1          2      3          4  2015-09-17   1.0      1            0   \n",
      "2          3      7          4  2015-09-17   1.0      1            0   \n",
      "3          4      8          4  2015-09-17   1.0      1            0   \n",
      "4          5      9          4  2015-09-17   1.0      1            0   \n",
      "...      ...    ...        ...         ...   ...    ...          ...   \n",
      "41083  41084   1111          6  2015-08-01   1.0      0            0   \n",
      "41084  41085   1112          6  2015-08-01   1.0      0            0   \n",
      "41085  41086   1113          6  2015-08-01   1.0      0            0   \n",
      "41086  41087   1114          6  2015-08-01   1.0      0            0   \n",
      "41087  41088   1115          6  2015-08-01   1.0      0            0   \n",
      "\n",
      "      SchoolHoliday  \n",
      "0                 0  \n",
      "1                 0  \n",
      "2                 0  \n",
      "3                 0  \n",
      "4                 0  \n",
      "...             ...  \n",
      "41083             0  \n",
      "41084             0  \n",
      "41085             0  \n",
      "41086             0  \n",
      "41087             1  \n",
      "\n",
      "[41088 rows x 8 columns]\n"
     ]
    }
   ],
   "source": [
    "print(train_df.head())\n",
    "print(test_df.head(60000))"
   ]
  },
  {
   "cell_type": "code",
   "execution_count": 6,
   "id": "2fc20904-afef-4637-9343-d7a9c3304622",
   "metadata": {},
   "outputs": [],
   "source": [
    "train_df = train_df.dropna()"
   ]
  },
  {
   "cell_type": "code",
   "execution_count": 7,
   "id": "848bc1fb-a460-480e-ac57-d72c838cdf00",
   "metadata": {},
   "outputs": [],
   "source": [
    "test_df = test_df.fillna(0)"
   ]
  },
  {
   "cell_type": "code",
   "execution_count": 8,
   "id": "9ff417ea-2a44-4cf9-a625-8d8542378427",
   "metadata": {},
   "outputs": [],
   "source": [
    "import pandas as pd\n",
    "import logging"
   ]
  },
  {
   "cell_type": "code",
   "execution_count": 9,
   "id": "0ab70849-c3ad-43ef-b642-47d32f7d1d21",
   "metadata": {},
   "outputs": [],
   "source": [
    "def remove_outliers(df, column):\n",
    "    Q1 = df[column].quantile(0.25)\n",
    "    Q3 = df[column].quantile(0.75)\n",
    "    IQR = Q3 - Q1\n",
    "    lower_bound = Q1 - 1.5 * IQR\n",
    "    upper_bound = Q3 + 1.5 * IQR\n",
    "    df = df[(df[column] >= lower_bound) & (df[column] <= upper_bound)]\n",
    "    return df"
   ]
  },
  {
   "cell_type": "code",
   "execution_count": 10,
   "id": "9d111154-acdb-4f54-aa85-36a9dc2504d6",
   "metadata": {},
   "outputs": [],
   "source": [
    "def remove_outliers(df, column):\n",
    "    if column not in df.columns:\n",
    "        logger.error(f\"Column '{column}' not found in DataFrame.\")\n",
    "        raise KeyError(f\"Column '{column}' does not exist in dataset.\")\n",
    "    \n",
    "    Q1 = df[column].quantile(0.25)\n",
    "    Q3 = df[column].quantile(0.75)\n",
    "    IQR = Q3 - Q1\n",
    "    lower_bound = Q1 - 1.5 * IQR\n",
    "    upper_bound = Q3 + 1.5 * IQR\n",
    "    filtered_df = df[(df[column] >= lower_bound) & (df[column] <= upper_bound)]\n",
    "    logger.info(f\"Outliers removed from column '{column}'. Original rows: {len(df)}, Remaining: {len(filtered_df)}\")\n",
    "    return filtered_df"
   ]
  },
  {
   "cell_type": "code",
   "execution_count": 11,
   "id": "d9c4246d-4f0f-4f6d-aad7-c589c1578012",
   "metadata": {},
   "outputs": [
    {
     "name": "stderr",
     "output_type": "stream",
     "text": [
      "2025-10-21 17:01:53,039 - INFO - Outliers removed from column 'Sales'. Original rows: 1017209, Remaining: 990515\n"
     ]
    }
   ],
   "source": [
    "if 'Sales' in train_df.columns:\n",
    "    train_df = remove_outliers(train_df, 'Sales')\n",
    "else:\n",
    "    logger.warning(\"Column 'Sales' not found in train dataset. Skipping outlier removal.\")"
   ]
  },
  {
   "cell_type": "code",
   "execution_count": 12,
   "id": "8e828ba9-f68b-44f7-b745-c853df964f72",
   "metadata": {},
   "outputs": [
    {
     "name": "stdout",
     "output_type": "stream",
     "text": [
      "Data after removing outliers:\n",
      "   Store  DayOfWeek        Date  Sales  Customers  Open  Promo StateHoliday  \\\n",
      "0      1          5  2015-07-31   5263        555     1      1            0   \n",
      "1      2          5  2015-07-31   6064        625     1      1            0   \n",
      "2      3          5  2015-07-31   8314        821     1      1            0   \n",
      "3      4          5  2015-07-31  13995       1498     1      1            0   \n",
      "4      5          5  2015-07-31   4822        559     1      1            0   \n",
      "\n",
      "   SchoolHoliday  \n",
      "0              1  \n",
      "1              1  \n",
      "2              1  \n",
      "3              1  \n",
      "4              1  \n",
      "   Id  Store  DayOfWeek        Date  Open  Promo StateHoliday SchoolHoliday\n",
      "0   1      1          4  2015-09-17   1.0      1            0             0\n",
      "1   2      3          4  2015-09-17   1.0      1            0             0\n",
      "2   3      7          4  2015-09-17   1.0      1            0             0\n",
      "3   4      8          4  2015-09-17   1.0      1            0             0\n",
      "4   5      9          4  2015-09-17   1.0      1            0             0\n"
     ]
    }
   ],
   "source": [
    "print(\"Data after removing outliers:\")\n",
    "print(train_df.head())\n",
    "print(test_df.head())"
   ]
  },
  {
   "cell_type": "code",
   "execution_count": 13,
   "id": "fd643cb5-fea8-4fa8-9c1e-f983dd72de35",
   "metadata": {},
   "outputs": [],
   "source": [
    "train_df['Date'] = pd.to_datetime(train_df['Date'])\n",
    "test_df['Date'] = pd.to_datetime(test_df['Date'])\n"
   ]
  },
  {
   "cell_type": "code",
   "execution_count": 14,
   "id": "6597e9a3-662a-440b-9d2d-e5b743bd7ee0",
   "metadata": {},
   "outputs": [],
   "source": [
    "def add_date_features(df, date_col='Date'):\n",
    "    df['day'] = df[date_col].dt.day\n",
    "    df['month'] = df[date_col].dt.month\n",
    "    df['year'] = df[date_col].dt.year\n",
    "    df['weekday'] = df[date_col].dt.weekday # 0=Mon\n",
    "    df['is_weekend'] = df['weekday'].isin([5,6]).astype(int)\n",
    "    df['weekofyear'] = df[date_col].dt.isocalendar().week.astype(int)\n",
    "    df['dayofyear'] = df[date_col].dt.dayofyear\n",
    "    df['is_month_start'] = df[date_col].dt.is_month_start.astype(int)\n",
    "    df['is_month_end'] = df[date_col].dt.is_month_end.astype(int)\n",
    "    # Beginning/Mid/End of month bands\n",
    "    df['month_band'] = pd.cut(df['day'], bins=[0,10,20,31], labels=['start','mid','end'])\n",
    "    return df"
   ]
  },
  {
   "cell_type": "code",
   "execution_count": 15,
   "id": "17e47d57-dfb6-4c6f-b5a1-6dfeb4e62876",
   "metadata": {},
   "outputs": [],
   "source": [
    "train_df = add_date_features(train_df)\n",
    "test_df = add_date_features(test_df)\n"
   ]
  },
  {
   "cell_type": "code",
   "execution_count": 16,
   "id": "9580f7de-d661-4cb6-9af9-924747eecfcb",
   "metadata": {},
   "outputs": [],
   "source": [
    "def convert_to_bool(df):\n",
    "    if 'IsHoliday' in df.columns and df['IsHoliday'].dtype != 'bool':\n",
    "        df['IsHoliday'] = df['IsHoliday'].astype(bool)\n",
    "    return df"
   ]
  },
  {
   "cell_type": "code",
   "execution_count": 17,
   "id": "693893db-6334-402f-ac53-7fc0e3b7c881",
   "metadata": {},
   "outputs": [],
   "source": [
    "train_df = convert_to_bool(train_df)\n",
    "test_df = convert_to_bool(test_df)"
   ]
  },
  {
   "cell_type": "code",
   "execution_count": 18,
   "id": "1e079def-98cc-4241-99f0-900b1af532ce",
   "metadata": {},
   "outputs": [],
   "source": [
    "if 'IsHoliday' in train_df.columns:\n",
    "    holiday_dates_train = sorted(train_df.loc[train_df['IsHoliday'], 'Date'].dt.date.unique())\n",
    "else:\n",
    "    holiday_dates_train = []\n",
    "\n",
    "if 'IsHoliday' in test_df.columns:\n",
    "    holiday_dates_test = sorted(test_df.loc[test_df['IsHoliday'], 'Date'].dt.date.unique())\n",
    "else:\n",
    "    holiday_dates_test = []"
   ]
  },
  {
   "cell_type": "code",
   "execution_count": 19,
   "id": "da859908-b179-4211-a381-62330947f94b",
   "metadata": {},
   "outputs": [],
   "source": [
    "from bisect import bisect_left"
   ]
  },
  {
   "cell_type": "code",
   "execution_count": 20,
   "id": "4e686a23-2210-48ea-afd0-ffffc8c23341",
   "metadata": {},
   "outputs": [],
   "source": [
    "import bisect\n",
    "import numpy as np"
   ]
  },
  {
   "cell_type": "code",
   "execution_count": 21,
   "id": "598571c5-6515-4f2e-b8de-a28c0ecab9e4",
   "metadata": {},
   "outputs": [],
   "source": [
    "def days_to_next_holiday(date, holiday_list):\n",
    "    # date is datetime.date\n",
    "    i = bisect.bisect_left(holiday_list, date)\n",
    "    if i >= len(holiday_list):\n",
    "        return np.nan\n",
    "    return (holiday_list[i] - date).days\n",
    "\n",
    "def days_since_prev_holiday(date, holiday_list):\n",
    "    i = bisect.bisect_left(holiday_list, date)\n",
    "    if i == 0:\n",
    "        return np.nan\n",
    "    return (date - holiday_list[i-1]).days"
   ]
  },
  {
   "cell_type": "code",
   "execution_count": 22,
   "id": "ba5dc68e-d89a-4f8a-abd7-9c9d2b08e2ad",
   "metadata": {},
   "outputs": [],
   "source": [
    "train_df['days_to_next_holiday'] = train_df['Date'].dt.date.apply(lambda d: days_to_next_holiday(d, holiday_dates_train))\n",
    "train_df['days_since_prev_holiday'] = train_df['Date'].dt.date.apply(lambda d: days_since_prev_holiday(d, holiday_dates_train))"
   ]
  },
  {
   "cell_type": "code",
   "execution_count": 23,
   "id": "668fa7d1-be28-4e4d-81e0-ae6bd29286c8",
   "metadata": {},
   "outputs": [],
   "source": [
    "test_df['days_to_next_holiday'] = test_df['Date'].dt.date.apply(lambda d: days_to_next_holiday(d, holiday_dates_test))\n",
    "test_df['days_since_prev_holiday'] = test_df['Date'].dt.date.apply(lambda d: days_since_prev_holiday(d, holiday_dates_test))"
   ]
  },
  {
   "cell_type": "code",
   "execution_count": 24,
   "id": "33053ce0-7874-4816-b251-18ea517fdeb3",
   "metadata": {},
   "outputs": [],
   "source": [
    "if 'CompetitionOpenSinceYear' in train_df.columns:\n",
    "    train_df['CompetitionOpenSinceYear'] = train_df['CompetitionOpenSinceYear'].replace(0, np.nan)\n",
    "if 'CompetitionOpenSinceMonth' in train_df.columns:\n",
    "    train_df['CompetitionOpenSinceMonth'] = train_df['CompetitionOpenSinceMonth'].replace(0, np.nan)"
   ]
  },
  {
   "cell_type": "code",
   "execution_count": 25,
   "id": "482800bd-75cc-487a-8d15-7d29d8cfe98f",
   "metadata": {},
   "outputs": [],
   "source": [
    "if 'CompetitionOpenSinceYear' in test_df.columns:\n",
    "    test_df['CompetitionOpenSinceYear'] = test_df['CompetitionOpenSinceYear'].replace(0, np.nan)\n",
    "if 'CompetitionOpenSinceMonth' in test_df.columns:\n",
    "    test_df['CompetitionOpenSinceMonth'] = test_df['CompetitionOpenSinceMonth'].replace(0, np.nan)\n"
   ]
  },
  {
   "cell_type": "code",
   "execution_count": 26,
   "id": "94206e50-6e57-41fa-b325-8b9327e7515c",
   "metadata": {},
   "outputs": [],
   "source": [
    "columns_to_check = ['CompetitionOpenSinceYear', 'CompetitionOpenSinceMonth']\n",
    "\n",
    "for col in columns_to_check:\n",
    "    if col in train_df.columns:\n",
    "        train_df[col] = train_df[col].replace(0, np.nan)\n",
    "    if col in test_df.columns:\n",
    "        test_df[col] = test_df[col].replace(0, np.nan)"
   ]
  },
  {
   "cell_type": "code",
   "execution_count": 27,
   "id": "dd5d690a-8ab7-47f8-afcf-a282acd44457",
   "metadata": {},
   "outputs": [],
   "source": [
    "if 'Open' in train_df.columns:\n",
    "    train_df = train_df[train_df['Open'] != 0].copy()"
   ]
  },
  {
   "cell_type": "code",
   "execution_count": 28,
   "id": "d83cadb7-7a12-461d-80ae-06b4f010b492",
   "metadata": {},
   "outputs": [],
   "source": [
    "if 'Sales' in train_df.columns:\n",
    "    train_df.loc[:, 'Sales_log'] = np.log1p(train_df['Sales'])"
   ]
  },
  {
   "cell_type": "code",
   "execution_count": 29,
   "id": "7d93a194-53c2-483c-a056-877de7c65dbf",
   "metadata": {},
   "outputs": [],
   "source": [
    "if 'Open' in test_df.columns:\n",
    "    test_df = test_df[test_df['Open'] != 0].copy()"
   ]
  },
  {
   "cell_type": "code",
   "execution_count": 30,
   "id": "d2e6bb77-99ab-4774-8dc5-62d56d0a54a1",
   "metadata": {},
   "outputs": [],
   "source": [
    "if 'Sales' in test_df.columns:\n",
    "    test_df.loc[:, 'Sales_log'] = np.log1p(test_df['Sales'])"
   ]
  },
  {
   "cell_type": "code",
   "execution_count": 31,
   "id": "28f81b07-4a7e-4f4a-ae77-efa76c7161dc",
   "metadata": {},
   "outputs": [],
   "source": [
    "features = [\n",
    "'Store','StoreType','Assortment','CompetitionDistance','competition_open_years',\n",
    "'Promo','promo2_months','IsHoliday','day','month','year','weekday','is_weekend',\n",
    "'is_month_start','is_month_end','days_to_next_holiday','days_since_prev_holiday'\n",
    "]"
   ]
  },
  {
   "cell_type": "code",
   "execution_count": 32,
   "id": "af561773-d1c0-4d24-b47e-5ca3e78e71b9",
   "metadata": {},
   "outputs": [],
   "source": [
    "features = [f for f in features if f in train_df.columns]\n",
    "X_train = train_df[features]\n",
    "y_train = train_df['Sales_log']"
   ]
  },
  {
   "cell_type": "code",
   "execution_count": 33,
   "id": "a691bb92-a8ff-4da8-9ad4-02893028fdbc",
   "metadata": {},
   "outputs": [],
   "source": [
    "# If you need to create X_test, you can do:\n",
    "X_test = test_df[features]\n"
   ]
  },
  {
   "cell_type": "code",
   "execution_count": 34,
   "id": "edf11c91-289e-4a64-8425-5ea35001723c",
   "metadata": {},
   "outputs": [],
   "source": [
    "train_idx = train_df['Date'] < train_df['Date'].max() - pd.Timedelta(days=90)\n",
    "X_train, X_test = X_train[train_idx], X_train[~train_idx]\n",
    "y_train, y_test = y_train[train_idx], y_train[~train_idx]\n"
   ]
  },
  {
   "cell_type": "code",
   "execution_count": 35,
   "id": "59908061-fc25-4aeb-8695-06df79656cb2",
   "metadata": {},
   "outputs": [],
   "source": [
    "from sklearn.pipeline import Pipeline\n",
    "from sklearn.compose import ColumnTransformer\n",
    "from sklearn.impute import SimpleImputer\n",
    "from sklearn.preprocessing import StandardScaler, OneHotEncoder\n",
    "from sklearn.ensemble import RandomForestRegressor"
   ]
  },
  {
   "cell_type": "code",
   "execution_count": 36,
   "id": "d67602c4-27b5-4ca3-a3b7-1df6d662b229",
   "metadata": {},
   "outputs": [],
   "source": [
    "from sklearn.pipeline import Pipeline\n",
    "from sklearn.compose import ColumnTransformer\n",
    "from sklearn.impute import SimpleImputer\n",
    "from sklearn.preprocessing import StandardScaler, OneHotEncoder\n",
    "from sklearn.ensemble import RandomForestRegressor\n",
    "import numpy as np"
   ]
  },
  {
   "cell_type": "code",
   "execution_count": 37,
   "id": "7edc8da7-1e6e-4fdf-8ca5-b8b5cc05f786",
   "metadata": {},
   "outputs": [],
   "source": [
    "SEED = 42  # define your random seed\n",
    "\n",
    "numeric_features = [c for c in X_train.columns if X_train[c].dtype in [np.float64, np.int64] and c != 'Store']\n",
    "cat_features = [c for c in X_train.columns if X_train[c].dtype == 'object' or c == 'Store']"
   ]
  },
  {
   "cell_type": "code",
   "execution_count": 38,
   "id": "beb6a62e-f6df-4d03-b0b3-abde364981c9",
   "metadata": {},
   "outputs": [],
   "source": [
    "numeric_transformer = Pipeline(steps=[\n",
    "    ('imputer', SimpleImputer(strategy='median')),\n",
    "    ('scaler', StandardScaler())\n",
    "])\n"
   ]
  },
  {
   "cell_type": "code",
   "execution_count": 39,
   "id": "48d6d319-1838-4085-a979-528938410dcd",
   "metadata": {},
   "outputs": [],
   "source": [
    "cat_transformer = Pipeline(steps=[\n",
    "    ('imputer', SimpleImputer(strategy='constant', fill_value='missing')),\n",
    "    ('onehot', OneHotEncoder(handle_unknown='ignore'))\n",
    "])\n"
   ]
  },
  {
   "cell_type": "code",
   "execution_count": 40,
   "id": "335d8ec5-df4b-4640-bdeb-c80097cc78dd",
   "metadata": {},
   "outputs": [],
   "source": [
    "preprocessor = ColumnTransformer(\n",
    "    transformers=[\n",
    "        ('num', numeric_transformer, numeric_features),\n",
    "        ('cat', cat_transformer, cat_features)\n",
    "    ])"
   ]
  },
  {
   "cell_type": "code",
   "execution_count": 41,
   "id": "5456d83a-9b4a-4302-baad-927744a6c41d",
   "metadata": {},
   "outputs": [],
   "source": [
    "pipeline = Pipeline(steps=[\n",
    "    ('preprocessor', preprocessor),\n",
    "    ('model', RandomForestRegressor(n_estimators=100, random_state=SEED, n_jobs=-1))\n",
    "])\n"
   ]
  },
  {
   "cell_type": "code",
   "execution_count": 42,
   "id": "84ed6e66-64c2-41a3-81be-a1095f8ce856",
   "metadata": {},
   "outputs": [],
   "source": [
    "numeric_features = [c for c in X_train.columns if X_train[c].dtype in [np.float64, np.int64] and c != 'Store']\n",
    "cat_int_features = [c for c in X_train.columns if X_train[c].dtype in [np.int64] and c == 'Store']\n",
    "cat_obj_features = [c for c in X_train.columns if X_train[c].dtype == 'object']"
   ]
  },
  {
   "cell_type": "code",
   "execution_count": 43,
   "id": "69586035-18ff-4f11-8744-2092b591bc7f",
   "metadata": {},
   "outputs": [],
   "source": [
    "numeric_transformer = Pipeline(steps=[\n",
    "    ('imputer', SimpleImputer(strategy='median')),\n",
    "    ('scaler', StandardScaler())\n",
    "])"
   ]
  },
  {
   "cell_type": "code",
   "execution_count": 44,
   "id": "1a269438-521c-4cd8-bb59-4616592a88ae",
   "metadata": {},
   "outputs": [],
   "source": [
    "cat_int_transformer = Pipeline(steps=[\n",
    "    ('imputer', SimpleImputer(strategy='constant', fill_value=0)),\n",
    "])"
   ]
  },
  {
   "cell_type": "code",
   "execution_count": 45,
   "id": "8ebeaac9-5d03-4894-b29f-7d2b4e9fa077",
   "metadata": {},
   "outputs": [],
   "source": [
    "cat_obj_transformer = Pipeline(steps=[\n",
    "    ('imputer', SimpleImputer(strategy='constant', fill_value='missing')),\n",
    "    ('onehot', OneHotEncoder(handle_unknown='ignore'))\n",
    "])\n"
   ]
  },
  {
   "cell_type": "code",
   "execution_count": 46,
   "id": "dafee632-688a-4452-8dc6-68817d162853",
   "metadata": {},
   "outputs": [],
   "source": [
    "preprocessor = ColumnTransformer(\n",
    "    transformers=[\n",
    "        ('num', numeric_transformer, numeric_features),\n",
    "        ('cat_int', cat_int_transformer, cat_int_features),\n",
    "        ('cat_obj', cat_obj_transformer, cat_obj_features)\n",
    "    ])"
   ]
  },
  {
   "cell_type": "code",
   "execution_count": 47,
   "id": "f1e6c3de-f42b-4435-a83e-8bd4375e420e",
   "metadata": {},
   "outputs": [],
   "source": [
    "pipeline = Pipeline(steps=[\n",
    "    ('preprocessor', preprocessor),\n",
    "    ('model', RandomForestRegressor(n_estimators=100, random_state=SEED, n_jobs=-1))\n",
    "])"
   ]
  },
  {
   "cell_type": "code",
   "execution_count": 48,
   "id": "1bf704ee-f2b9-48f2-a7bd-de66e2f4c630",
   "metadata": {},
   "outputs": [],
   "source": [
    "from sklearn.metrics import mean_squared_error\n"
   ]
  },
  {
   "cell_type": "code",
   "execution_count": 49,
   "id": "587a5adf-b617-450f-8f04-a1c82c09aeea",
   "metadata": {},
   "outputs": [],
   "source": [
    "from sklearn.metrics import mean_squared_error\n",
    "import numpy as np\n"
   ]
  },
  {
   "cell_type": "code",
   "execution_count": 50,
   "id": "c17c4f52-6bf8-4857-9db4-83483a2330f6",
   "metadata": {},
   "outputs": [],
   "source": [
    "features_to_drop = ['days_to_next_holiday', 'days_since_prev_holiday']\n",
    "X_train = X_train.drop(features_to_drop, axis=1)\n",
    "X_test = X_test.drop(features_to_drop, axis=1)\n"
   ]
  },
  {
   "cell_type": "code",
   "execution_count": 51,
   "id": "4850cf04-852f-4a4c-9979-16140c97ae69",
   "metadata": {},
   "outputs": [
    {
     "name": "stdout",
     "output_type": "stream",
     "text": [
      "X_train columns: Index(['Store', 'Promo', 'day', 'month', 'year', 'weekday', 'is_weekend',\n",
      "       'is_month_start', 'is_month_end'],\n",
      "      dtype='object')\n",
      "X_test columns: Index(['Store', 'Promo', 'day', 'month', 'year', 'weekday', 'is_weekend',\n",
      "       'is_month_start', 'is_month_end'],\n",
      "      dtype='object')\n"
     ]
    }
   ],
   "source": [
    "print(\"X_train columns:\", X_train.columns)\n",
    "print(\"X_test columns:\", X_test.columns)\n"
   ]
  },
  {
   "cell_type": "code",
   "execution_count": 52,
   "id": "bb7d1145-e08f-43c0-8170-373e8169beb4",
   "metadata": {},
   "outputs": [
    {
     "name": "stdout",
     "output_type": "stream",
     "text": [
      "Numeric features: ['Promo', 'days_to_next_holiday', 'days_since_prev_holiday']\n",
      "Categorical integer features: ['Store']\n",
      "Categorical object features: []\n"
     ]
    }
   ],
   "source": [
    "print(\"Numeric features:\", numeric_features)\n",
    "print(\"Categorical integer features:\", cat_int_features)\n",
    "print(\"Categorical object features:\", cat_obj_features)\n"
   ]
  },
  {
   "cell_type": "code",
   "execution_count": 53,
   "id": "b6c1a3f0-2041-49a5-8cb0-dd50df4b39d2",
   "metadata": {},
   "outputs": [],
   "source": [
    "from sklearn.metrics import make_scorer\n",
    "import numpy as np\n"
   ]
  },
  {
   "cell_type": "code",
   "execution_count": 54,
   "id": "de259b2c-4a63-4b30-8092-ce3633fdd6ac",
   "metadata": {},
   "outputs": [],
   "source": [
    "def rmsle(y_true, y_pred):\n",
    "    # expects raw sales\n",
    "    y_true = np.array(y_true)\n",
    "    y_pred = np.array(y_pred)\n",
    "    return np.sqrt(np.mean((np.log1p(y_pred) - np.log1p(y_true))**2))"
   ]
  },
  {
   "cell_type": "code",
   "execution_count": 55,
   "id": "d970a425-7bae-4f9e-9a21-773f91376de0",
   "metadata": {},
   "outputs": [],
   "source": [
    "rmsle_scorer = make_scorer(rmsle, greater_is_better=False)"
   ]
  },
  {
   "cell_type": "code",
   "execution_count": 56,
   "id": "bff8f12a-ccc0-4d7d-96e9-e17b26f53328",
   "metadata": {},
   "outputs": [],
   "source": [
    "from sklearn.inspection import permutation_importance\n"
   ]
  },
  {
   "cell_type": "code",
   "execution_count": 57,
   "id": "cc132858-237f-46c7-a4a9-ebfddbe35ba9",
   "metadata": {},
   "outputs": [
    {
     "name": "stdout",
     "output_type": "stream",
     "text": [
      "(81751, 9)\n",
      "(81751,)\n"
     ]
    }
   ],
   "source": [
    "print(X_test.shape)\n",
    "print(y_test.shape)"
   ]
  },
  {
   "cell_type": "code",
   "execution_count": 61,
   "id": "f87ecfc6-c323-4fc1-9693-cca8a9c52180",
   "metadata": {},
   "outputs": [
    {
     "name": "stdout",
     "output_type": "stream",
     "text": [
      "X_train columns: Index(['Store', 'Promo', 'day', 'month', 'year', 'weekday', 'is_weekend',\n",
      "       'is_month_start', 'is_month_end'],\n",
      "      dtype='object')\n",
      "X_test columns: Index(['Store', 'Promo', 'day', 'month', 'year', 'weekday', 'is_weekend',\n",
      "       'is_month_start', 'is_month_end'],\n",
      "      dtype='object')\n"
     ]
    }
   ],
   "source": [
    "print(\"X_train columns:\", X_train.columns)\n",
    "print(\"X_test columns:\", X_test.columns)"
   ]
  },
  {
   "cell_type": "code",
   "execution_count": 62,
   "id": "1543dba6-6c09-430c-81c0-68d956565c99",
   "metadata": {},
   "outputs": [
    {
     "name": "stdout",
     "output_type": "stream",
     "text": [
      "Numeric features: ['Promo', 'days_to_next_holiday', 'days_since_prev_holiday']\n",
      "Categorical object features: []\n"
     ]
    }
   ],
   "source": [
    "print(\"Numeric features:\", numeric_features)\n",
    "print(\"Categorical object features:\", cat_obj_features)"
   ]
  },
  {
   "cell_type": "code",
   "execution_count": 68,
   "id": "5e2dad06-42da-4416-9155-fd81d1a5fd35",
   "metadata": {},
   "outputs": [],
   "source": [
    "common_columns = list(set(X_train.columns) & set(X_test.columns))\n",
    "X_train_subset = X_train[common_columns]\n",
    "X_test_subset = X_test[common_columns]\n"
   ]
  },
  {
   "cell_type": "code",
   "execution_count": 69,
   "id": "83696940-a110-453e-b43b-0e3bffa51cf6",
   "metadata": {},
   "outputs": [],
   "source": [
    "numeric_features_subset = [feature for feature in numeric_features if feature in common_columns]\n",
    "cat_obj_features_subset = [feature for feature in cat_obj_features if feature in common_columns]\n"
   ]
  },
  {
   "cell_type": "code",
   "execution_count": 73,
   "id": "dd5e5166-ffed-4806-b366-c8d0b8bd62ec",
   "metadata": {},
   "outputs": [],
   "source": [
    "common_columns = list(set(X_train.columns) & set(X_test.columns))\n",
    "X_train_subset = X_train[common_columns]\n",
    "X_test_subset = X_test[common_columns]\n"
   ]
  },
  {
   "cell_type": "code",
   "execution_count": 74,
   "id": "78827554-46cf-404c-943d-73607ccbbe4c",
   "metadata": {},
   "outputs": [],
   "source": [
    "# Reorder the columns to match the pipeline\n",
    "X_train_subset = X_train_subset[pipeline.feature_names_in_]\n",
    "X_test_subset = X_test_subset[pipeline.feature_names_in_]"
   ]
  },
  {
   "cell_type": "code",
   "execution_count": 76,
   "id": "5955a679-4abf-4e06-bfdf-8e44ba329d74",
   "metadata": {},
   "outputs": [
    {
     "name": "stdout",
     "output_type": "stream",
     "text": [
      "Requirement already satisfied: scikit-learn in c:\\users\\barsha prasad\\anaconda3\\lib\\site-packages (1.4.2)\n",
      "Requirement already satisfied: numpy>=1.19.5 in c:\\users\\barsha prasad\\anaconda3\\lib\\site-packages (from scikit-learn) (1.26.4)\n",
      "Requirement already satisfied: scipy>=1.6.0 in c:\\users\\barsha prasad\\anaconda3\\lib\\site-packages (from scikit-learn) (1.13.1)\n",
      "Requirement already satisfied: joblib>=1.2.0 in c:\\users\\barsha prasad\\anaconda3\\lib\\site-packages (from scikit-learn) (1.4.2)\n",
      "Requirement already satisfied: threadpoolctl>=2.0.0 in c:\\users\\barsha prasad\\anaconda3\\lib\\site-packages (from scikit-learn) (2.2.0)\n"
     ]
    }
   ],
   "source": [
    "!pip install scikit-learn"
   ]
  },
  {
   "cell_type": "code",
   "execution_count": 79,
   "id": "7aedf3fa-a4ab-4f6e-9074-d0c039d42606",
   "metadata": {},
   "outputs": [],
   "source": [
    "from sklearn.compose import make_column_transformer"
   ]
  },
  {
   "cell_type": "code",
   "execution_count": 80,
   "id": "2d82283c-373f-46c9-8f6d-8bec0b45ef01",
   "metadata": {},
   "outputs": [],
   "source": [
    "numeric_features = X_train_subset.select_dtypes(include=['int64', 'float64']).columns\n",
    "categorical_features = X_train_subset.select_dtypes(include=['object']).columns"
   ]
  },
  {
   "cell_type": "code",
   "execution_count": 81,
   "id": "d194bdca-9126-42f2-90ce-73b31129eb12",
   "metadata": {},
   "outputs": [],
   "source": [
    "preprocessor = make_column_transformer(\n",
    "    (StandardScaler(), numeric_features),\n",
    "    (OneHotEncoder(handle_unknown='ignore'), categorical_features),\n",
    "    remainder='passthrough'\n",
    ")\n"
   ]
  },
  {
   "cell_type": "code",
   "execution_count": 84,
   "id": "dd1d3316-12a0-4503-916c-d199bc9b0e2a",
   "metadata": {},
   "outputs": [],
   "source": [
    "from sklearn.pipeline import make_pipeline\n"
   ]
  },
  {
   "cell_type": "code",
   "execution_count": 85,
   "id": "cdcf0e39-dcff-48ca-b1d6-c90d81cd2acb",
   "metadata": {},
   "outputs": [],
   "source": [
    "pipeline = Pipeline([\n",
    "    ('preprocessor', preprocessor),\n",
    "    ('model', RandomForestRegressor())\n",
    "])"
   ]
  },
  {
   "cell_type": "code",
   "execution_count": 86,
   "id": "22980b3d-fbbb-4639-a625-6334eb828cc1",
   "metadata": {},
   "outputs": [],
   "source": [
    "pipeline = make_pipeline(preprocessor, RandomForestRegressor())\n"
   ]
  },
  {
   "cell_type": "code",
   "execution_count": 90,
   "id": "82122e74-c6b4-4ec8-9cd7-21e5fbb46a57",
   "metadata": {},
   "outputs": [],
   "source": [
    "from sklearn.compose import ColumnTransformer\n",
    "from sklearn.compose import make_column_selector\n"
   ]
  },
  {
   "cell_type": "code",
   "execution_count": 91,
   "id": "64f18480-342e-42b8-8817-1e89260ad457",
   "metadata": {},
   "outputs": [],
   "source": [
    "preprocessor = ColumnTransformer([\n",
    "    ('num', StandardScaler(), make_column_selector(dtype_include=['int64', 'float64'])),\n",
    "    ('cat', OneHotEncoder(handle_unknown='ignore'), make_column_selector(dtype_include=['object']))\n",
    "])\n"
   ]
  },
  {
   "cell_type": "code",
   "execution_count": 94,
   "id": "1e45581a-0bd1-49ae-8361-42288ce49111",
   "metadata": {},
   "outputs": [],
   "source": [
    "import matplotlib.pyplot as plt\n",
    "import seaborn as sns"
   ]
  },
  {
   "cell_type": "code",
   "execution_count": 96,
   "id": "f3943643-fd9e-44cd-bc61-70cd9898abd3",
   "metadata": {},
   "outputs": [
    {
     "name": "stdout",
     "output_type": "stream",
     "text": [
      "Index(['col_0', 'col_1', 'col_2', 'col_3', 'col_4', 'col_5', 'col_6', 'col_7',\n",
      "       'col_8'],\n",
      "      dtype='object')\n"
     ]
    }
   ],
   "source": [
    "print(X_train_subset.columns)\n"
   ]
  },
  {
   "cell_type": "code",
   "execution_count": 98,
   "id": "93a5e6c1-4159-4690-843d-d2f872fd53f9",
   "metadata": {},
   "outputs": [
    {
     "name": "stderr",
     "output_type": "stream",
     "text": [
      "2025-10-21 19:42:16,457 - INFO - Using categorical units to plot a list of strings that are all parsable as floats or dates. If these strings should be plotted as numbers, cast to the appropriate data type before plotting.\n",
      "2025-10-21 19:42:17,247 - INFO - Using categorical units to plot a list of strings that are all parsable as floats or dates. If these strings should be plotted as numbers, cast to the appropriate data type before plotting.\n"
     ]
    },
    {
     "data": {
      "image/png": "[encoded data removed]",
      "text/plain": [
       "<Figure size 1000x600 with 1 Axes>"
      ]
     },
     "metadata": {},
     "output_type": "display_data"
    },
    {
     "name": "stderr",
     "output_type": "stream",
     "text": [
      "2025-10-21 19:42:19,339 - INFO - Using categorical units to plot a list of strings that are all parsable as floats or dates. If these strings should be plotted as numbers, cast to the appropriate data type before plotting.\n",
      "2025-10-21 19:42:20,186 - INFO - Using categorical units to plot a list of strings that are all parsable as floats or dates. If these strings should be plotted as numbers, cast to the appropriate data type before plotting.\n"
     ]
    },
    {
     "data": {
      "image/png": "[encoded data removed]",
      "text/plain": [
       "<Figure size 1000x600 with 1 Axes>"
      ]
     },
     "metadata": {},
     "output_type": "display_data"
    },
    {
     "name": "stderr",
     "output_type": "stream",
     "text": [
      "2025-10-21 19:42:37,596 - INFO - Using categorical units to plot a list of strings that are all parsable as floats or dates. If these strings should be plotted as numbers, cast to the appropriate data type before plotting.\n",
      "2025-10-21 19:42:38,459 - INFO - Using categorical units to plot a list of strings that are all parsable as floats or dates. If these strings should be plotted as numbers, cast to the appropriate data type before plotting.\n"
     ]
    },
    {
     "data": {
      "image/png": "[encoded data removed]",
      "text/plain": [
       "<Figure size 1000x600 with 1 Axes>"
      ]
     },
     "metadata": {},
     "output_type": "display_data"
    },
    {
     "name": "stderr",
     "output_type": "stream",
     "text": [
      "2025-10-21 19:42:40,351 - INFO - Using categorical units to plot a list of strings that are all parsable as floats or dates. If these strings should be plotted as numbers, cast to the appropriate data type before plotting.\n",
      "2025-10-21 19:42:41,148 - INFO - Using categorical units to plot a list of strings that are all parsable as floats or dates. If these strings should be plotted as numbers, cast to the appropriate data type before plotting.\n"
     ]
    },
    {
     "data": {
      "image/png": "[encoded data removed]",
      "text/plain": [
       "<Figure size 1000x600 with 1 Axes>"
      ]
     },
     "metadata": {},
     "output_type": "display_data"
    },
    {
     "name": "stderr",
     "output_type": "stream",
     "text": [
      "2025-10-21 19:42:42,792 - INFO - Using categorical units to plot a list of strings that are all parsable as floats or dates. If these strings should be plotted as numbers, cast to the appropriate data type before plotting.\n",
      "2025-10-21 19:42:43,530 - INFO - Using categorical units to plot a list of strings that are all parsable as floats or dates. If these strings should be plotted as numbers, cast to the appropriate data type before plotting.\n"
     ]
    },
    {
     "data": {
      "image/png": "[encoded data removed]",
      "text/plain": [
       "<Figure size 1000x600 with 1 Axes>"
      ]
     },
     "metadata": {},
     "output_type": "display_data"
    },
    {
     "name": "stderr",
     "output_type": "stream",
     "text": [
      "2025-10-21 19:42:45,352 - INFO - Using categorical units to plot a list of strings that are all parsable as floats or dates. If these strings should be plotted as numbers, cast to the appropriate data type before plotting.\n",
      "2025-10-21 19:42:46,073 - INFO - Using categorical units to plot a list of strings that are all parsable as floats or dates. If these strings should be plotted as numbers, cast to the appropriate data type before plotting.\n"
     ]
    },
    {
     "data": {
      "image/png": "[encoded data removed]",
      "text/plain": [
       "<Figure size 1000x600 with 1 Axes>"
      ]
     },
     "metadata": {},
     "output_type": "display_data"
    },
    {
     "name": "stderr",
     "output_type": "stream",
     "text": [
      "2025-10-21 19:42:47,824 - INFO - Using categorical units to plot a list of strings that are all parsable as floats or dates. If these strings should be plotted as numbers, cast to the appropriate data type before plotting.\n",
      "2025-10-21 19:42:48,591 - INFO - Using categorical units to plot a list of strings that are all parsable as floats or dates. If these strings should be plotted as numbers, cast to the appropriate data type before plotting.\n"
     ]
    },
    {
     "data": {
      "image/png": "[encoded data removed]",
      "text/plain": [
       "<Figure size 1000x600 with 1 Axes>"
      ]
     },
     "metadata": {},
     "output_type": "display_data"
    },
    {
     "name": "stderr",
     "output_type": "stream",
     "text": [
      "2025-10-21 19:42:50,195 - INFO - Using categorical units to plot a list of strings that are all parsable as floats or dates. If these strings should be plotted as numbers, cast to the appropriate data type before plotting.\n",
      "2025-10-21 19:42:50,962 - INFO - Using categorical units to plot a list of strings that are all parsable as floats or dates. If these strings should be plotted as numbers, cast to the appropriate data type before plotting.\n"
     ]
    },
    {
     "data": {
      "image/png": "[encoded data removed]",
      "text/plain": [
       "<Figure size 1000x600 with 1 Axes>"
      ]
     },
     "metadata": {},
     "output_type": "display_data"
    },
    {
     "name": "stderr",
     "output_type": "stream",
     "text": [
      "2025-10-21 19:42:52,884 - INFO - Using categorical units to plot a list of strings that are all parsable as floats or dates. If these strings should be plotted as numbers, cast to the appropriate data type before plotting.\n",
      "2025-10-21 19:42:53,621 - INFO - Using categorical units to plot a list of strings that are all parsable as floats or dates. If these strings should be plotted as numbers, cast to the appropriate data type before plotting.\n"
     ]
    },
    {
     "data": {
      "image/png": "[encoded data removed]",
      "text/plain": [
       "<Figure size 1000x600 with 1 Axes>"
      ]
     },
     "metadata": {},
     "output_type": "display_data"
    }
   ],
   "source": [
    "for column in X_train_subset.columns:\n",
    "    plt.figure(figsize=(10, 6))\n",
    "    sns.countplot(data=X_train_subset, x=column)\n",
    "    plt.title(f'Distribution of {column}')\n",
    "    plt.xlabel(column)\n",
    "    plt.ylabel('Count')\n",
    "    plt.show()\n"
   ]
  },
  {
   "cell_type": "code",
   "execution_count": 101,
   "id": "7427920f-d8d6-4612-a2c2-64018de8f701",
   "metadata": {},
   "outputs": [
    {
     "name": "stdout",
     "output_type": "stream",
     "text": [
      "Index(['col_0', 'col_1', 'col_2', 'col_3', 'col_4', 'col_5', 'col_6', 'col_7',\n",
      "       'col_8'],\n",
      "      dtype='object')\n"
     ]
    }
   ],
   "source": [
    "print(X_train_subset.columns)\n"
   ]
  },
  {
   "cell_type": "code",
   "execution_count": 109,
   "id": "61c952e9-147b-45b6-8510-9916b7ecba1d",
   "metadata": {},
   "outputs": [],
   "source": [
    "date_column = '<column_name_representing_dates>'\n",
    "holiday_column = '<column_name_representing_state_holidays>'\n",
    "sales_column = '<column_name_representing_sales>'"
   ]
  },
  {
   "cell_type": "code",
   "execution_count": 112,
   "id": "7c20d431-d056-4bc0-bd71-bf20283fb36c",
   "metadata": {},
   "outputs": [],
   "source": [
    "date_column = 'Date'\n",
    "holiday_column = 'StateHoliday'\n",
    "sales_column = 'Sales'\n"
   ]
  },
  {
   "cell_type": "code",
   "execution_count": 113,
   "id": "b1adcb59-58ff-49d9-8d89-44269d70f973",
   "metadata": {},
   "outputs": [
    {
     "name": "stdout",
     "output_type": "stream",
     "text": [
      "Index(['col_0', 'col_1', 'col_2', 'col_3', 'col_4', 'col_5', 'col_6', 'col_7',\n",
      "       'col_8'],\n",
      "      dtype='object')\n"
     ]
    }
   ],
   "source": [
    "print(X_train_subset.columns)"
   ]
  },
  {
   "cell_type": "code",
   "execution_count": 115,
   "id": "fb5d78fe-cbc5-42ed-a7c1-14eda15048d5",
   "metadata": {},
   "outputs": [],
   "source": [
    "date_column = 'Date'\n",
    "holiday_column = 'StateHoliday'\n",
    "sales_column = 'Sales'"
   ]
  },
  {
   "cell_type": "code",
   "execution_count": 128,
   "id": "288b1eff-4d12-44f6-81bf-7ab945ef0f9e",
   "metadata": {},
   "outputs": [],
   "source": [
    "import pandas as pd\n",
    "import numpy as np\n",
    "import matplotlib.pyplot as plt\n",
    "import seaborn as sns\n",
    "import logging"
   ]
  },
  {
   "cell_type": "code",
   "execution_count": 129,
   "id": "b75cd887-052f-4b73-917f-9528e0abb549",
   "metadata": {},
   "outputs": [],
   "source": [
    "logging.basicConfig(level=logging.INFO, format='%(asctime)s - %(levelname)s - %(message)s')\n",
    "logger = logging.getLogger(__name__)"
   ]
  },
  {
   "cell_type": "code",
   "execution_count": 132,
   "id": "c684dcc6-290c-43ab-aed1-5e311b14dd3a",
   "metadata": {},
   "outputs": [],
   "source": [
    "train_df = pd.read_csv('train.csv', dtype={7: 'str'})\n",
    "test_df = pd.read_csv('test.csv', dtype={7: 'str'})"
   ]
  },
  {
   "cell_type": "code",
   "execution_count": 150,
   "id": "2c1f573f-c1ff-49fb-80ad-f42119ab40c4",
   "metadata": {},
   "outputs": [
    {
     "name": "stdout",
     "output_type": "stream",
     "text": [
      "   Store  DayOfWeek        Date  Sales  Customers  Open  Promo StateHoliday  \\\n",
      "0      1          5  2015-07-31   5263        555     1      1            0   \n",
      "1      2          5  2015-07-31   6064        625     1      1            0   \n",
      "2      3          5  2015-07-31   8314        821     1      1            0   \n",
      "3      4          5  2015-07-31  13995       1498     1      1            0   \n",
      "4      5          5  2015-07-31   4822        559     1      1            0   \n",
      "\n",
      "   SchoolHoliday  \n",
      "0              1  \n",
      "1              1  \n",
      "2              1  \n",
      "3              1  \n",
      "4              1  \n",
      "          Id  Store  DayOfWeek        Date  Open  Promo StateHoliday  \\\n",
      "0          1      1          4  2015-09-17   1.0      1            0   \n",
      "1          2      3          4  2015-09-17   1.0      1            0   \n",
      "2          3      7          4  2015-09-17   1.0      1            0   \n",
      "3          4      8          4  2015-09-17   1.0      1            0   \n",
      "4          5      9          4  2015-09-17   1.0      1            0   \n",
      "...      ...    ...        ...         ...   ...    ...          ...   \n",
      "41083  41084   1111          6  2015-08-01   1.0      0            0   \n",
      "41084  41085   1112          6  2015-08-01   1.0      0            0   \n",
      "41085  41086   1113          6  2015-08-01   1.0      0            0   \n",
      "41086  41087   1114          6  2015-08-01   1.0      0            0   \n",
      "41087  41088   1115          6  2015-08-01   1.0      0            0   \n",
      "\n",
      "      SchoolHoliday  \n",
      "0                 0  \n",
      "1                 0  \n",
      "2                 0  \n",
      "3                 0  \n",
      "4                 0  \n",
      "...             ...  \n",
      "41083             0  \n",
      "41084             0  \n",
      "41085             0  \n",
      "41086             0  \n",
      "41087             1  \n",
      "\n",
      "[41088 rows x 8 columns]\n"
     ]
    }
   ],
   "source": [
    "print(train_df.head())\n",
    "print(test_df.head(60000))"
   ]
  },
  {
   "cell_type": "code",
   "execution_count": 151,
   "id": "1445fc1f-84b8-4814-afe1-53cdcb5969c4",
   "metadata": {},
   "outputs": [],
   "source": [
    "train_df = train_df.dropna()\n",
    "test_df = test_df.fillna(0)"
   ]
  },
  {
   "cell_type": "code",
   "execution_count": 152,
   "id": "95ea6266-d7e8-44c0-95d3-4dfa9bdb4687",
   "metadata": {},
   "outputs": [],
   "source": [
    "def remove_outliers(df, column):\n",
    "    Q1 = df[column].quantile(0.25)\n",
    "    Q3 = df[column].quantile(0.75)\n",
    "    IQR = Q3 - Q1\n",
    "    lower_bound = Q1 - 1.5 * IQR\n",
    "    upper_bound = Q3 + 1.5 * IQR\n",
    "    df = df[(df[column] >= lower_bound) & (df[column] <= upper_bound)]\n",
    "    return df"
   ]
  },
  {
   "cell_type": "code",
   "execution_count": 153,
   "id": "f2a9c325-388c-4b32-88e2-fc0fc35f8721",
   "metadata": {},
   "outputs": [],
   "source": [
    "def remove_outliers(df, column):\n",
    "    if column not in df.columns:\n",
    "        logger.error(f\"Column '{column}' not found in DataFrame.\")\n",
    "        raise KeyError(f\"Column '{column}' does not exist in dataset.\")\n",
    "    \n",
    "    Q1 = df[column].quantile(0.25)\n",
    "    Q3 = df[column].quantile(0.75)\n",
    "    IQR = Q3 - Q1\n",
    "    lower_bound = Q1 - 1.5 * IQR\n",
    "    upper_bound = Q3 + 1.5 * IQR\n",
    "    filtered_df = df[(df[column] >= lower_bound) & (df[column] <= upper_bound)]\n",
    "    logger.info(f\"Outliers removed from column '{column}'. Original rows: {len(df)}, Remaining: {len(filtered_df)}\")\n",
    "    return filtered_df"
   ]
  },
  {
   "cell_type": "code",
   "execution_count": 154,
   "id": "e9ccdcc3-4613-453c-ae13-993b18cc4f07",
   "metadata": {},
   "outputs": [
    {
     "name": "stderr",
     "output_type": "stream",
     "text": [
      "2025-10-21 21:10:04,108 - WARNING - Column 'Sales' not found in dataset. Skipping outlier removal.\n"
     ]
    }
   ],
   "source": [
    "if 'Column D' in X_train_subset.columns:\n",
    "    X_train_subset = remove_outliers(X_train_subset, 'Column D')\n",
    "else:\n",
    "    logger.warning(\"Column 'Sales' not found in dataset. Skipping outlier removal.\")"
   ]
  },
  {
   "cell_type": "code",
   "execution_count": 155,
   "id": "c2d58fe7-0fb1-4613-ae60-339894dc90fd",
   "metadata": {},
   "outputs": [
    {
     "name": "stdout",
     "output_type": "stream",
     "text": [
      "Data after removing outliers:\n",
      "        col_0  col_1  col_2  col_3  col_4  col_5  col_6  col_7  col_8\n",
      "101518      0     54   2015      0      1      1      4      5      1\n",
      "101549      0     85   2015      0      1      1      4      5      1\n",
      "101647      0    183   2015      0      1      1      4      5      1\n",
      "101689      0    225   2015      0      1      1      4      5      1\n",
      "101738      0    274   2015      0      1      1      4      5      1\n"
     ]
    }
   ],
   "source": [
    "print(\"Data after removing outliers:\")\n",
    "print(X_train_subset.head())\n"
   ]
  },
  {
   "cell_type": "code",
   "execution_count": 156,
   "id": "fae085a1-005d-48e3-9964-8b15a0b771d2",
   "metadata": {},
   "outputs": [
    {
     "name": "stdout",
     "output_type": "stream",
     "text": [
      "Data after removing outliers:\n",
      "   Store  DayOfWeek        Date  Sales  Customers  Open  Promo StateHoliday  \\\n",
      "0      1          5  2015-07-31   5263        555     1      1            0   \n",
      "1      2          5  2015-07-31   6064        625     1      1            0   \n",
      "2      3          5  2015-07-31   8314        821     1      1            0   \n",
      "3      4          5  2015-07-31  13995       1498     1      1            0   \n",
      "4      5          5  2015-07-31   4822        559     1      1            0   \n",
      "\n",
      "   SchoolHoliday  \n",
      "0              1  \n",
      "1              1  \n",
      "2              1  \n",
      "3              1  \n",
      "4              1  \n",
      "   Id  Store  DayOfWeek        Date  Open  Promo StateHoliday SchoolHoliday\n",
      "0   1      1          4  2015-09-17   1.0      1            0             0\n",
      "1   2      3          4  2015-09-17   1.0      1            0             0\n",
      "2   3      7          4  2015-09-17   1.0      1            0             0\n",
      "3   4      8          4  2015-09-17   1.0      1            0             0\n",
      "4   5      9          4  2015-09-17   1.0      1            0             0\n"
     ]
    }
   ],
   "source": [
    "print(\"Data after removing outliers:\")\n",
    "print(train_df.head())\n",
    "print(test_df.head())"
   ]
  },
  {
   "cell_type": "code",
   "execution_count": null,
   "id": "19790a41-4012-41c0-aaf7-ceb7a7bd7129",
   "metadata": {},
   "outputs": [],
   "source": []
  }
 ],
 "metadata": {
  "kernelspec": {
   "display_name": "Python 3 (ipykernel)",
   "language": "python",
   "name": "python3"
  },
  "language_info": {
   "codemirror_mode": {
    "name": "ipython",
    "version": 3
   },
   "file_extension": ".py",
   "mimetype": "text/x-python",
   "name": "python",
   "nbconvert_exporter": "python",
   "pygments_lexer": "ipython3",
   "version": "3.12.4"
  }
 },
 "nbformat": 4,
 "nbformat_minor": 5
}
